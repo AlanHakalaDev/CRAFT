{
 "cells": [
  {
   "cell_type": "code",
   "execution_count": 1,
   "metadata": {},
   "outputs": [
    {
     "name": "stdout",
     "output_type": "stream",
     "text": [
      "Screenshot taken: screenshot_1726693691.png\n",
      "Screenshot taken: screenshot_1726693691.png\n",
      "Screenshot taken: screenshot_1726693691.png\n",
      "Screenshot taken: screenshot_1726693693.png\n",
      "Screenshot taken: screenshot_1726693693.png\n",
      "Screenshot taken: screenshot_1726693693.png\n",
      "Screenshot taken: screenshot_1726693693.png\n",
      "Screenshot taken: screenshot_1726693695.png\n"
     ]
    },
    {
     "ename": "KeyboardInterrupt",
     "evalue": "",
     "output_type": "error",
     "traceback": [
      "\u001b[1;31m---------------------------------------------------------------------------\u001b[0m",
      "\u001b[1;31mKeyboardInterrupt\u001b[0m                         Traceback (most recent call last)",
      "Cell \u001b[1;32mIn[1], line 68\u001b[0m\n\u001b[0;32m     66\u001b[0m \u001b[38;5;66;03m# Update frames\u001b[39;00m\n\u001b[0;32m     67\u001b[0m frame1 \u001b[38;5;241m=\u001b[39m frame2\n\u001b[1;32m---> 68\u001b[0m ret, frame2 \u001b[38;5;241m=\u001b[39m \u001b[43mcap\u001b[49m\u001b[38;5;241;43m.\u001b[39;49m\u001b[43mread\u001b[49m\u001b[43m(\u001b[49m\u001b[43m)\u001b[49m\n\u001b[0;32m     70\u001b[0m \u001b[38;5;66;03m# Exit loop\u001b[39;00m\n\u001b[0;32m     71\u001b[0m \u001b[38;5;28;01mif\u001b[39;00m cv2\u001b[38;5;241m.\u001b[39mwaitKey(\u001b[38;5;241m10\u001b[39m) \u001b[38;5;241m==\u001b[39m \u001b[38;5;28mord\u001b[39m(\u001b[38;5;124m'\u001b[39m\u001b[38;5;124mq\u001b[39m\u001b[38;5;124m'\u001b[39m):\n",
      "\u001b[1;31mKeyboardInterrupt\u001b[0m: "
     ]
    },
    {
     "ename": "",
     "evalue": "",
     "output_type": "error",
     "traceback": [
      "\u001b[1;31mThe Kernel crashed while executing code in the current cell or a previous cell. \n",
      "\u001b[1;31mPlease review the code in the cell(s) to identify a possible cause of the failure. \n",
      "\u001b[1;31mClick <a href='https://aka.ms/vscodeJupyterKernelCrash'>here</a> for more info. \n",
      "\u001b[1;31mView Jupyter <a href='command:jupyter.viewOutput'>log</a> for further details."
     ]
    }
   ],
   "source": [
    "import cv2\n",
    "import numpy as np\n",
    "import time\n",
    "\n",
    "#start reading webcam\n",
    "cap = cv2.VideoCapture(0)\n",
    "\n",
    "#read initial frames\n",
    "ret, frame1 = cap.read()\n",
    "ret, frame2 = cap.read()\n",
    "\n",
    "#get screen dimensions\n",
    "frame_height, frame_width = frame1.shape[:2]\n",
    "\n",
    "#define center tolerance (I will need to test and tweak this)\n",
    "center_tolerance = 50\n",
    "\n",
    "while cap.isOpened():\n",
    "    #compute the absolute difference between frames\n",
    "    diff = cv2.absdiff(frame1, frame2)\n",
    "    \n",
    "    #convert the difference to grayscale\n",
    "    gray = cv2.cvtColor(diff, cv2.COLOR_BGR2GRAY)\n",
    "    \n",
    "    #apply Gaussian blur\n",
    "    blur = cv2.GaussianBlur(gray, (5, 5), 0)\n",
    "    \n",
    "    #get threshold\n",
    "    _, thresh = cv2.threshold(blur, 20, 255, cv2.THRESH_BINARY)\n",
    "    \n",
    "    #dilate our threshold\n",
    "    dilated = cv2.dilate(thresh, None, iterations=3)\n",
    "    \n",
    "    #get contours\n",
    "    contours, _ = cv2.findContours(dilated, cv2.RETR_TREE, cv2.CHAIN_APPROX_SIMPLE)\n",
    "    \n",
    "    #draw contours to detect motion\n",
    "    for contour in contours:\n",
    "        if cv2.contourArea(contour) < 700:\n",
    "            continue\n",
    "        \n",
    "        #get bounding box coordinates for each contour\n",
    "        (x, y, w, h) = cv2.boundingRect(contour)\n",
    "        \n",
    "        #mark object with a rectangle\n",
    "        cv2.rectangle(frame1, (x, y), (x + w, y + h), (0, 255, 0), 2)\n",
    "        \n",
    "        #calculate center of bounding box\n",
    "        center_x = x + w // 2\n",
    "        center_y = y + h // 2\n",
    "        \n",
    "        #check if the object is (roughly) in the center of the screen\n",
    "        screen_center_x = frame_width // 2\n",
    "        screen_center_y = frame_height // 2\n",
    "        \n",
    "        if (abs(center_x - screen_center_x) <= center_tolerance and\n",
    "            abs(center_y - screen_center_y) <= center_tolerance):\n",
    "            #object is in the center of the screen, take a screenshot\n",
    "            screenshot_filename = f'screenshot_{int(time.time())}.png'\n",
    "            cv2.imwrite(screenshot_filename, frame1)\n",
    "            print(f\"Screenshot taken: {screenshot_filename}\")\n",
    "    \n",
    "    #display resulting frame\n",
    "    cv2.imshow(\"Motion Detection\", frame1)\n",
    "    \n",
    "    #update frames\n",
    "    frame1 = frame2\n",
    "    ret, frame2 = cap.read()\n",
    "\n",
    "    #exit loop\n",
    "    if cv2.waitKey(10) == ord('q'):\n",
    "        break\n",
    "\n",
    "#close up program\n",
    "cap.release()\n",
    "cv2.destroyAllWindows()\n"
   ]
  }
 ],
 "metadata": {
  "kernelspec": {
   "display_name": "Python 3",
   "language": "python",
   "name": "python3"
  },
  "language_info": {
   "codemirror_mode": {
    "name": "ipython",
    "version": 3
   },
   "file_extension": ".py",
   "mimetype": "text/x-python",
   "name": "python",
   "nbconvert_exporter": "python",
   "pygments_lexer": "ipython3",
   "version": "3.12.3"
  }
 },
 "nbformat": 4,
 "nbformat_minor": 2
}
