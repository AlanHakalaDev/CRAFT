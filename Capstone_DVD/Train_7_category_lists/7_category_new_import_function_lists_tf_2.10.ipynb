{
 "cells": [
  {
   "cell_type": "code",
   "execution_count": 1,
   "metadata": {},
   "outputs": [],
   "source": [
    "# import the necessary packages\n",
    "from sklearn.preprocessing import LabelBinarizer\n",
    "from sklearn.metrics import classification_report,confusion_matrix\n",
    "from keras.callbacks import LearningRateScheduler,ModelCheckpoint,TensorBoard\n",
    "from keras.optimizers import RMSprop,SGD,Adam\n",
    "from keras.applications import ResNet50,VGG16,VGG19,InceptionV3,ResNet152V2,vgg16\n",
    "from keras.applications import DenseNet121,DenseNet169,DenseNet201\n",
    "from keras.applications import NASNetMobile, NASNetLarge, EfficientNetB0, EfficientNetV2B0\n",
    "from keras.layers import Input, Dropout,Flatten,Dense,GlobalAveragePooling2D\n",
    "from keras.models import Model,load_model\n",
    "from keras.preprocessing.image import ImageDataGenerator\n",
    "from tensorflow.keras.utils import img_to_array\n",
    "from tensorflow.keras.applications import imagenet_utils\n",
    "from imutils import paths\n",
    "from random import shuffle\n",
    "import numpy as np\n",
    "import argparse\n",
    "import os\n",
    "import matplotlib.pyplot as plt\n",
    "import h5py\n",
    "import cv2\n",
    "from csv import reader\n",
    "\n",
    "\n",
    "#Needed for top layers of model\n",
    "from tensorflow.keras.layers import BatchNormalization\n",
    "from keras import regularizers\n",
    "\n",
    "#Adds top classification layer to transfer learning model\n",
    "def top_layers(baseModel, classes, D):\n",
    "\t# initialize the head model that will be placed on top of\n",
    "\t# the base, then add a FC layer\n",
    "\tl2_constant=0.02\n",
    "\tfirst_dropout_rate=0.5\n",
    "\tdropout_rate=0.5\n",
    "\theadModel = baseModel.output\n",
    "\theadModel = GlobalAveragePooling2D()(headModel)\n",
    "\theadModel = Flatten()(headModel)\n",
    "\theadModel = Dense(D, activation=\"relu\",kernel_regularizer=regularizers.l2(l2_constant))(headModel)\n",
    "\n",
    "\t# add a softmax layer\n",
    "\theadModel = Dense(classes, activation=\"softmax\")(headModel)\n",
    "\n",
    "\t# return the model\n",
    "\treturn headModel\n",
    "\n",
    "#modifies learning rate based on epoch\n",
    "def step_decay(epoch):\n",
    "    initAlpha=.0020\n",
    "    if epoch <= 20:\n",
    "        alpha=initAlpha\n",
    "    elif epoch <= 40:\n",
    "        alpha=initAlpha*0.75\n",
    "    elif epoch <= 60:\n",
    "        alpha=initAlpha*0.50\n",
    "    elif epoch <= 80:\n",
    "        alpha=initAlpha*0.25\n",
    "    elif epoch <=100:\n",
    "        alpha=initAlpha*0.175\n",
    "    elif epoch <= 125:\n",
    "        alpha=initAlpha*0.10\n",
    "    else:\n",
    "        alpha=initAlpha*0.05\n",
    "    return float(alpha)\n",
    "\n",
    "#Loads in image data, labels from class subfolder\n",
    "def create_data_arrays_list(imageData, image_dimension, verbose=-1):\n",
    "    # initialize the list of features and labels\n",
    "    data = []\n",
    "    labels = []\n",
    "    i=0\n",
    "\n",
    "    # loop over the input images\n",
    "    for image_input in imageData:\n",
    "        # load the image\n",
    "        \n",
    "        image = cv2.imread(\"C:/Ceramic_Models/no_wepo/images/\"+image_input[0][:])\n",
    "\n",
    "\n",
    "        # resize image, convert image to grayscale, then back to original color scheme for ResNet50, VGG16\n",
    "        #Original interpolation was cv2.INTER_AREA\n",
    "        image = cv2.cvtColor(cv2.cvtColor(cv2.resize(image, (image_dimension, image_dimension),\n",
    "            interpolation=cv2.INTER_AREA),cv2.COLOR_BGR2GRAY),cv2.COLOR_GRAY2BGR)\n",
    "        \n",
    "        #convert image into array format using Keras function\n",
    "        image=img_to_array(image)\n",
    "\n",
    "        #add image data to array\n",
    "        data.append(image)\n",
    "        \n",
    "        #Change label names so that class numbers will correspond to chronological sequence; class names changed back further on\n",
    "        if image_input[:][1] == 'Kanaa': append_label='00'+'Kanaa'\n",
    "        elif image_input[:][1] == 'Black_Mesa': append_label='01'+'Black_Mesa'\n",
    "        elif image_input[:][1] == 'Sosi': append_label='02'+'Sosi'\n",
    "        elif image_input[:][1] == 'Dogoszhi': append_label='03'+'Dogoszhi'\n",
    "        elif image_input[:][1] == 'Flagstaff': append_label='04'+'Flagstaff'\n",
    "        elif image_input[:][1] == 'Tusayan': append_label='05'+'Tusayan'\n",
    "        else: append_label='06'+'Kayenta'\n",
    "        \n",
    "        #write label name\n",
    "        labels.append(append_label)\n",
    "\n",
    "        # show an update every `verbose` images\n",
    "        if verbose > 0 and i > 0 and (i + 1) % verbose == 0:\n",
    "            print(\"[INFO] processed {}/{}\".format(i + 1,\n",
    "            len(imageData)))\n",
    "        i=i+1\n",
    "\n",
    "    # return image array data, labels\n",
    "    return (np.array(data), np.array(labels))"
   ]
  },
  {
   "cell_type": "code",
   "execution_count": 2,
   "metadata": {},
   "outputs": [
    {
     "name": "stdout",
     "output_type": "stream",
     "text": [
      "VGG16_no_test model loaded\n",
      "VGG16_no_test_1_1\n",
      "C:/Ceramic_Models/no_wepo/VGG16_no_test/Set_1/train_1.csv\n",
      "C:/Ceramic_Models/no_wepo/VGG16_no_test/Set_1/test_1.csv\n"
     ]
    }
   ],
   "source": [
    "set_number=\"1\"\n",
    "run_number=\"1\"\n",
    "\n",
    "model_name=\"VGG16_no_test\"\n",
    "image_dimension=224\n",
    "\n",
    "# load the model network, ensuring the head FC layer sets are left\n",
    "# off\n",
    "baseModel = VGG16(weights='imagenet', include_top=False,\n",
    "\tinput_tensor=Input(shape=(image_dimension, image_dimension, 3)))\n",
    "\n",
    "# initialize the new head of the network, a set of FC layers\n",
    "# followed by a softmax classifier\n",
    "\n",
    "#Class_size=Number of classes\n",
    "Class_size=7\n",
    "headModel = top_layers(baseModel, Class_size, 512)\n",
    "\n",
    "# place the head FC model on top of the base model -- this will\n",
    "# become the actual model we will train\n",
    "model = Model(inputs=baseModel.input, outputs=headModel)\n",
    "\n",
    "# loop over all layers in the base model and freeze them so they\n",
    "# will *not* be updated during the training process\n",
    "for layer in baseModel.layers:\n",
    "\tlayer.trainable = False\n",
    "\n",
    "print(model_name + \" model loaded\")\n",
    "\n",
    "model_id=model_name+ \"_\"+set_number+\"_\"+run_number\n",
    "print(model_id)\n",
    "\n",
    "image_directory=\"C:/Ceramic_Models/no_wepo/\"\n",
    "#Define directories to use based on set number for loading data, saving data\n",
    "train_dataset=image_directory + model_name + \"/Set_\" + set_number +\"/train_\" + set_number + \".csv\"\n",
    "test_dataset=image_directory + model_name + \"/Set_\" + set_number +\"/test_\" + set_number + \".csv\"\n",
    "#Tboard_dir = \"C:\\Ceramic_Models\\load_test\\Set_\" + set_number +\"\\tb\"\n",
    "models_dir = image_directory + model_name + \"/Set_\" + set_number +\"/models\"\n",
    "images_dir = image_directory+\"images/\"\n",
    "print(train_dataset)\n",
    "print(test_dataset)"
   ]
  },
  {
   "cell_type": "code",
   "execution_count": 4,
   "metadata": {},
   "outputs": [],
   "source": [
    "#Parameters for ImageDataGenerator\n",
    "shift=0.0\n",
    "zoom=0.3\n",
    "\n",
    "\n",
    "# construct the image generator for data augmentation\n",
    "#fill_mode is value put into empty spaces created by rotation or zooming; cval=1.0 means white\n",
    "aug = ImageDataGenerator(rotation_range=180,\n",
    "\thorizontal_flip=False, vertical_flip=False, width_shift_range=shift, height_shift_range=shift, zoom_range=zoom, fill_mode=\"constant\",cval=1.0)"
   ]
  },
  {
   "cell_type": "code",
   "execution_count": 6,
   "metadata": {},
   "outputs": [
    {
     "name": "stdout",
     "output_type": "stream",
     "text": [
      "[INFO] loading images...\n",
      "[INFO] processed 250/1877\n",
      "[INFO] processed 500/1877\n",
      "[INFO] processed 750/1877\n",
      "[INFO] processed 1000/1877\n",
      "[INFO] processed 1250/1877\n",
      "[INFO] processed 1500/1877\n",
      "[INFO] processed 1750/1877\n",
      "[INFO] processed 250/470\n",
      "Training data loaded\n",
      "Test data loaded\n",
      "Done!\n",
      "Mean: 203.60538525063063 Std: 61.51054341179457\n"
     ]
    }
   ],
   "source": [
    "# Get lists of train images, types from file\n",
    "print(\"[INFO] loading images...\")\n",
    "with open(train_dataset, 'r') as read_obj:\n",
    "    # pass the file object to reader() to get the reader object\n",
    "    csv_reader = reader(read_obj)\n",
    "    # Pass reader object to list() to get a list of lists\n",
    "    train_data_list = list(csv_reader)\n",
    "\n",
    "#close file\n",
    "read_obj.close()\n",
    "\n",
    "#randomize order of images\n",
    "shuffle(train_data_list)\n",
    "\n",
    "#same for test images, types\n",
    "with open(test_dataset, 'r') as read_obj:\n",
    "    # pass the file object to reader() to get the reader object\n",
    "    csv_reader = reader(read_obj)\n",
    "    # Pass reader object to list() to get a list of lists\n",
    "    test_data_list = list(csv_reader)\n",
    "\n",
    "\n",
    "read_obj.close()\n",
    "\n",
    "(train_data,train_labels)=create_data_arrays_list(train_data_list,image_dimension, verbose=250)\n",
    "\n",
    "(test_data,test_labels)=create_data_arrays_list(test_data_list,image_dimension,verbose=250)\n",
    "\n",
    "#Set classNames from train_labels list, rename to eliminate numbers from the front\n",
    "classNames = [str(x) for x in np.unique(train_labels)]\n",
    "classNames=['Kanaa',  'Black_Mesa', 'Sosi', 'Dogoszhi', 'Flagstaff', 'Tusayan', 'Kayenta']\n",
    "\n",
    "train_data = train_data.astype(\"float\")\n",
    "train_data = vgg16.preprocess_input(train_data)\n",
    "print(\"Training data loaded\")\n",
    "\n",
    "#Load test data separately\n",
    "test_data = test_data.astype(\"float\") \n",
    "test_data = vgg16.preprocess_input(test_data)\n",
    "print(\"Test data loaded\")\n",
    "\n",
    "\n",
    "# set X,Y values to values for train, test\n",
    "(trainX, testX, trainY, testY) = (train_data,test_data,train_labels,test_labels)\n",
    "\n",
    "# convert the labels from integers to vectors\n",
    "trainY = LabelBinarizer().fit_transform(trainY)\n",
    "testY = LabelBinarizer().fit_transform(testY)\n",
    "\n",
    "print(\"Done!\")\n",
    "x = np.mean(train_data)\n",
    "y = np.std(train_data)\n",
    "print(\"Mean: \" + str(x) + \" Std: \" + str(y))\n"
   ]
  },
  {
   "cell_type": "code",
   "execution_count": 9,
   "metadata": {},
   "outputs": [
    {
     "name": "stdout",
     "output_type": "stream",
     "text": [
      "[INFO] compiling model...\n",
      "[INFO] training head...\n",
      "Epoch 1/10\n",
      "58/58 [==============================] - 19s 210ms/step - loss: 7.9520 - accuracy: 0.3653 - lr: 0.0020\n",
      "Epoch 2/10\n",
      "58/58 [==============================] - 10s 171ms/step - loss: 3.1501 - accuracy: 0.4195 - lr: 0.0020\n",
      "Epoch 3/10\n",
      "58/58 [==============================] - 10s 171ms/step - loss: 2.3884 - accuracy: 0.4596 - lr: 0.0020\n",
      "Epoch 4/10\n",
      "58/58 [==============================] - 10s 172ms/step - loss: 2.0604 - accuracy: 0.4531 - lr: 0.0020\n",
      "Epoch 5/10\n",
      "58/58 [==============================] - 10s 171ms/step - loss: 2.0032 - accuracy: 0.4634 - lr: 0.0020\n",
      "Epoch 6/10\n",
      "58/58 [==============================] - 10s 171ms/step - loss: 1.9530 - accuracy: 0.4661 - lr: 0.0020\n",
      "Epoch 7/10\n",
      "58/58 [==============================] - 10s 171ms/step - loss: 1.9929 - accuracy: 0.4650 - lr: 0.0020\n",
      "Epoch 8/10\n",
      "58/58 [==============================] - 10s 172ms/step - loss: 1.8411 - accuracy: 0.5051 - lr: 0.0020\n",
      "Epoch 9/10\n",
      "58/58 [==============================] - 10s 172ms/step - loss: 1.7601 - accuracy: 0.5051 - lr: 0.0020\n",
      "Epoch 10/10\n",
      "58/58 [==============================] - 10s 172ms/step - loss: 1.6321 - accuracy: 0.5176 - lr: 0.0020\n"
     ]
    },
    {
     "data": {
      "text/plain": [
       "<keras.callbacks.History at 0x1e609516e00>"
      ]
     },
     "execution_count": 9,
     "metadata": {},
     "output_type": "execute_result"
    }
   ],
   "source": [
    "# compile  model after setting base model layers to be non-trainable\n",
    "print(\"[INFO] compiling model...\")\n",
    "#Gradient descent optimization algorithm\n",
    "opt = RMSprop(learning_rate=0.0025)\n",
    "#opt = SGD(learning_rate=0.0025)\n",
    "#opt = Adam(learning_rate=0.001)\n",
    "#Compile, specify loss, optimizer, metrics\n",
    "model.compile(loss=\"categorical_crossentropy\", optimizer=opt,\n",
    "\tmetrics=[\"accuracy\"])\n",
    "\n",
    "#Add Learning rate scheduler to model callbacks\n",
    "callbacks=[LearningRateScheduler(step_decay)]\n",
    "\n",
    "# train the head of the network x epochs; other layers frozen to prevent randomization\n",
    "print(\"[INFO] training head...\")\n",
    "\n",
    "epoch_head = 10\n",
    "#model.fit(aug.flow(trainX, trainY, batch_size=32),\n",
    "#\tvalidation_data=(testX, testY), epochs=epoch_head,\n",
    "#\tsteps_per_epoch=len(trainX) // 32, callbacks=callbacks,verbose=1)\n",
    "\n",
    "model.fit(aug.flow(trainX, trainY, batch_size=32),\n",
    "\t epochs=epoch_head,\n",
    "\tsteps_per_epoch=len(trainX) // 32, callbacks=callbacks,verbose=1)"
   ]
  },
  {
   "cell_type": "code",
   "execution_count": 10,
   "metadata": {},
   "outputs": [
    {
     "name": "stdout",
     "output_type": "stream",
     "text": [
      "[INFO] re-compiling model...\n",
      "Final model compiled\n",
      "[INFO] fine-tuning model...\n",
      "Epoch 1/100\n",
      "117/117 [==============================] - ETA: 0s - loss: 1.2390 - accuracy: 0.6389\n",
      "Epoch 1: accuracy improved from -inf to 0.63890, saving model to C:/Ceramic_Models/no_wepo/VGG16_no_test/Set_1/models\\VGG16_no_test_1_1.model\n"
     ]
    },
    {
     "name": "stderr",
     "output_type": "stream",
     "text": [
      "WARNING:absl:Found untraced functions such as _jit_compiled_convolution_op, _jit_compiled_convolution_op, _jit_compiled_convolution_op, _jit_compiled_convolution_op, _jit_compiled_convolution_op while saving (showing 5 of 13). These functions will not be directly callable after loading.\n"
     ]
    },
    {
     "name": "stdout",
     "output_type": "stream",
     "text": [
      "INFO:tensorflow:Assets written to: C:/Ceramic_Models/no_wepo/VGG16_no_test/Set_1/models\\VGG16_no_test_1_1.model\\assets\n"
     ]
    },
    {
     "name": "stderr",
     "output_type": "stream",
     "text": [
      "INFO:tensorflow:Assets written to: C:/Ceramic_Models/no_wepo/VGG16_no_test/Set_1/models\\VGG16_no_test_1_1.model\\assets\n"
     ]
    },
    {
     "name": "stdout",
     "output_type": "stream",
     "text": [
      "117/117 [==============================] - 25s 181ms/step - loss: 1.2390 - accuracy: 0.6389 - lr: 0.0020\n",
      "Epoch 2/100\n",
      "117/117 [==============================] - ETA: 0s - loss: 1.0105 - accuracy: 0.7098\n",
      "Epoch 2: accuracy improved from 0.63890 to 0.70983, saving model to C:/Ceramic_Models/no_wepo/VGG16_no_test/Set_1/models\\VGG16_no_test_1_1.model\n"
     ]
    },
    {
     "name": "stderr",
     "output_type": "stream",
     "text": [
      "WARNING:absl:Found untraced functions such as _jit_compiled_convolution_op, _jit_compiled_convolution_op, _jit_compiled_convolution_op, _jit_compiled_convolution_op, _jit_compiled_convolution_op while saving (showing 5 of 13). These functions will not be directly callable after loading.\n"
     ]
    },
    {
     "name": "stdout",
     "output_type": "stream",
     "text": [
      "INFO:tensorflow:Assets written to: C:/Ceramic_Models/no_wepo/VGG16_no_test/Set_1/models\\VGG16_no_test_1_1.model\\assets\n"
     ]
    },
    {
     "name": "stderr",
     "output_type": "stream",
     "text": [
      "INFO:tensorflow:Assets written to: C:/Ceramic_Models/no_wepo/VGG16_no_test/Set_1/models\\VGG16_no_test_1_1.model\\assets\n"
     ]
    },
    {
     "name": "stdout",
     "output_type": "stream",
     "text": [
      "117/117 [==============================] - 20s 175ms/step - loss: 1.0105 - accuracy: 0.7098 - lr: 0.0020\n",
      "Epoch 3/100\n",
      "117/117 [==============================] - ETA: 0s - loss: 0.9162 - accuracy: 0.7399\n",
      "Epoch 3: accuracy improved from 0.70983 to 0.73992, saving model to C:/Ceramic_Models/no_wepo/VGG16_no_test/Set_1/models\\VGG16_no_test_1_1.model\n"
     ]
    },
    {
     "name": "stderr",
     "output_type": "stream",
     "text": [
      "WARNING:absl:Found untraced functions such as _jit_compiled_convolution_op, _jit_compiled_convolution_op, _jit_compiled_convolution_op, _jit_compiled_convolution_op, _jit_compiled_convolution_op while saving (showing 5 of 13). These functions will not be directly callable after loading.\n"
     ]
    },
    {
     "name": "stdout",
     "output_type": "stream",
     "text": [
      "INFO:tensorflow:Assets written to: C:/Ceramic_Models/no_wepo/VGG16_no_test/Set_1/models\\VGG16_no_test_1_1.model\\assets\n"
     ]
    },
    {
     "name": "stderr",
     "output_type": "stream",
     "text": [
      "INFO:tensorflow:Assets written to: C:/Ceramic_Models/no_wepo/VGG16_no_test/Set_1/models\\VGG16_no_test_1_1.model\\assets\n"
     ]
    },
    {
     "name": "stdout",
     "output_type": "stream",
     "text": [
      "117/117 [==============================] - 21s 177ms/step - loss: 0.9162 - accuracy: 0.7399 - lr: 0.0020\n",
      "Epoch 4/100\n",
      "117/117 [==============================] - ETA: 0s - loss: 0.8157 - accuracy: 0.7689\n",
      "Epoch 4: accuracy improved from 0.73992 to 0.76894, saving model to C:/Ceramic_Models/no_wepo/VGG16_no_test/Set_1/models\\VGG16_no_test_1_1.model\n"
     ]
    },
    {
     "name": "stderr",
     "output_type": "stream",
     "text": [
      "WARNING:absl:Found untraced functions such as _jit_compiled_convolution_op, _jit_compiled_convolution_op, _jit_compiled_convolution_op, _jit_compiled_convolution_op, _jit_compiled_convolution_op while saving (showing 5 of 13). These functions will not be directly callable after loading.\n"
     ]
    },
    {
     "name": "stdout",
     "output_type": "stream",
     "text": [
      "INFO:tensorflow:Assets written to: C:/Ceramic_Models/no_wepo/VGG16_no_test/Set_1/models\\VGG16_no_test_1_1.model\\assets\n"
     ]
    },
    {
     "name": "stderr",
     "output_type": "stream",
     "text": [
      "INFO:tensorflow:Assets written to: C:/Ceramic_Models/no_wepo/VGG16_no_test/Set_1/models\\VGG16_no_test_1_1.model\\assets\n"
     ]
    },
    {
     "name": "stdout",
     "output_type": "stream",
     "text": [
      "117/117 [==============================] - 21s 178ms/step - loss: 0.8157 - accuracy: 0.7689 - lr: 0.0020\n",
      "Epoch 5/100\n",
      "117/117 [==============================] - ETA: 0s - loss: 0.8144 - accuracy: 0.7877\n",
      "Epoch 5: accuracy improved from 0.76894 to 0.78775, saving model to C:/Ceramic_Models/no_wepo/VGG16_no_test/Set_1/models\\VGG16_no_test_1_1.model\n"
     ]
    },
    {
     "name": "stderr",
     "output_type": "stream",
     "text": [
      "WARNING:absl:Found untraced functions such as _jit_compiled_convolution_op, _jit_compiled_convolution_op, _jit_compiled_convolution_op, _jit_compiled_convolution_op, _jit_compiled_convolution_op while saving (showing 5 of 13). These functions will not be directly callable after loading.\n"
     ]
    },
    {
     "name": "stdout",
     "output_type": "stream",
     "text": [
      "INFO:tensorflow:Assets written to: C:/Ceramic_Models/no_wepo/VGG16_no_test/Set_1/models\\VGG16_no_test_1_1.model\\assets\n"
     ]
    },
    {
     "name": "stderr",
     "output_type": "stream",
     "text": [
      "INFO:tensorflow:Assets written to: C:/Ceramic_Models/no_wepo/VGG16_no_test/Set_1/models\\VGG16_no_test_1_1.model\\assets\n"
     ]
    },
    {
     "name": "stdout",
     "output_type": "stream",
     "text": [
      "117/117 [==============================] - 21s 177ms/step - loss: 0.8144 - accuracy: 0.7877 - lr: 0.0020\n",
      "Epoch 6/100\n",
      "117/117 [==============================] - ETA: 0s - loss: 0.7617 - accuracy: 0.7937\n",
      "Epoch 6: accuracy improved from 0.78775 to 0.79366, saving model to C:/Ceramic_Models/no_wepo/VGG16_no_test/Set_1/models\\VGG16_no_test_1_1.model\n"
     ]
    },
    {
     "name": "stderr",
     "output_type": "stream",
     "text": [
      "WARNING:absl:Found untraced functions such as _jit_compiled_convolution_op, _jit_compiled_convolution_op, _jit_compiled_convolution_op, _jit_compiled_convolution_op, _jit_compiled_convolution_op while saving (showing 5 of 13). These functions will not be directly callable after loading.\n"
     ]
    },
    {
     "name": "stdout",
     "output_type": "stream",
     "text": [
      "INFO:tensorflow:Assets written to: C:/Ceramic_Models/no_wepo/VGG16_no_test/Set_1/models\\VGG16_no_test_1_1.model\\assets\n"
     ]
    },
    {
     "name": "stderr",
     "output_type": "stream",
     "text": [
      "INFO:tensorflow:Assets written to: C:/Ceramic_Models/no_wepo/VGG16_no_test/Set_1/models\\VGG16_no_test_1_1.model\\assets\n"
     ]
    },
    {
     "name": "stdout",
     "output_type": "stream",
     "text": [
      "117/117 [==============================] - 21s 178ms/step - loss: 0.7617 - accuracy: 0.7937 - lr: 0.0020\n",
      "Epoch 7/100\n",
      "117/117 [==============================] - ETA: 0s - loss: 0.7561 - accuracy: 0.8049\n",
      "Epoch 7: accuracy improved from 0.79366 to 0.80494, saving model to C:/Ceramic_Models/no_wepo/VGG16_no_test/Set_1/models\\VGG16_no_test_1_1.model\n"
     ]
    },
    {
     "name": "stderr",
     "output_type": "stream",
     "text": [
      "WARNING:absl:Found untraced functions such as _jit_compiled_convolution_op, _jit_compiled_convolution_op, _jit_compiled_convolution_op, _jit_compiled_convolution_op, _jit_compiled_convolution_op while saving (showing 5 of 13). These functions will not be directly callable after loading.\n"
     ]
    },
    {
     "name": "stdout",
     "output_type": "stream",
     "text": [
      "INFO:tensorflow:Assets written to: C:/Ceramic_Models/no_wepo/VGG16_no_test/Set_1/models\\VGG16_no_test_1_1.model\\assets\n"
     ]
    },
    {
     "name": "stderr",
     "output_type": "stream",
     "text": [
      "INFO:tensorflow:Assets written to: C:/Ceramic_Models/no_wepo/VGG16_no_test/Set_1/models\\VGG16_no_test_1_1.model\\assets\n"
     ]
    },
    {
     "name": "stdout",
     "output_type": "stream",
     "text": [
      "117/117 [==============================] - 21s 177ms/step - loss: 0.7561 - accuracy: 0.8049 - lr: 0.0020\n",
      "Epoch 8/100\n",
      "117/117 [==============================] - ETA: 0s - loss: 0.7066 - accuracy: 0.8195\n",
      "Epoch 8: accuracy improved from 0.80494 to 0.81945, saving model to C:/Ceramic_Models/no_wepo/VGG16_no_test/Set_1/models\\VGG16_no_test_1_1.model\n"
     ]
    },
    {
     "name": "stderr",
     "output_type": "stream",
     "text": [
      "WARNING:absl:Found untraced functions such as _jit_compiled_convolution_op, _jit_compiled_convolution_op, _jit_compiled_convolution_op, _jit_compiled_convolution_op, _jit_compiled_convolution_op while saving (showing 5 of 13). These functions will not be directly callable after loading.\n"
     ]
    },
    {
     "name": "stdout",
     "output_type": "stream",
     "text": [
      "INFO:tensorflow:Assets written to: C:/Ceramic_Models/no_wepo/VGG16_no_test/Set_1/models\\VGG16_no_test_1_1.model\\assets\n"
     ]
    },
    {
     "name": "stderr",
     "output_type": "stream",
     "text": [
      "INFO:tensorflow:Assets written to: C:/Ceramic_Models/no_wepo/VGG16_no_test/Set_1/models\\VGG16_no_test_1_1.model\\assets\n"
     ]
    },
    {
     "name": "stdout",
     "output_type": "stream",
     "text": [
      "117/117 [==============================] - 21s 179ms/step - loss: 0.7066 - accuracy: 0.8195 - lr: 0.0020\n",
      "Epoch 9/100\n",
      "117/117 [==============================] - ETA: 0s - loss: 0.6855 - accuracy: 0.8227\n",
      "Epoch 9: accuracy improved from 0.81945 to 0.82268, saving model to C:/Ceramic_Models/no_wepo/VGG16_no_test/Set_1/models\\VGG16_no_test_1_1.model\n"
     ]
    },
    {
     "name": "stderr",
     "output_type": "stream",
     "text": [
      "WARNING:absl:Found untraced functions such as _jit_compiled_convolution_op, _jit_compiled_convolution_op, _jit_compiled_convolution_op, _jit_compiled_convolution_op, _jit_compiled_convolution_op while saving (showing 5 of 13). These functions will not be directly callable after loading.\n"
     ]
    },
    {
     "name": "stdout",
     "output_type": "stream",
     "text": [
      "INFO:tensorflow:Assets written to: C:/Ceramic_Models/no_wepo/VGG16_no_test/Set_1/models\\VGG16_no_test_1_1.model\\assets\n"
     ]
    },
    {
     "name": "stderr",
     "output_type": "stream",
     "text": [
      "INFO:tensorflow:Assets written to: C:/Ceramic_Models/no_wepo/VGG16_no_test/Set_1/models\\VGG16_no_test_1_1.model\\assets\n"
     ]
    },
    {
     "name": "stdout",
     "output_type": "stream",
     "text": [
      "117/117 [==============================] - 21s 175ms/step - loss: 0.6855 - accuracy: 0.8227 - lr: 0.0020\n",
      "Epoch 10/100\n",
      "117/117 [==============================] - ETA: 0s - loss: 0.6440 - accuracy: 0.8452\n",
      "Epoch 10: accuracy improved from 0.82268 to 0.84524, saving model to C:/Ceramic_Models/no_wepo/VGG16_no_test/Set_1/models\\VGG16_no_test_1_1.model\n"
     ]
    },
    {
     "name": "stderr",
     "output_type": "stream",
     "text": [
      "WARNING:absl:Found untraced functions such as _jit_compiled_convolution_op, _jit_compiled_convolution_op, _jit_compiled_convolution_op, _jit_compiled_convolution_op, _jit_compiled_convolution_op while saving (showing 5 of 13). These functions will not be directly callable after loading.\n"
     ]
    },
    {
     "name": "stdout",
     "output_type": "stream",
     "text": [
      "INFO:tensorflow:Assets written to: C:/Ceramic_Models/no_wepo/VGG16_no_test/Set_1/models\\VGG16_no_test_1_1.model\\assets\n"
     ]
    },
    {
     "name": "stderr",
     "output_type": "stream",
     "text": [
      "INFO:tensorflow:Assets written to: C:/Ceramic_Models/no_wepo/VGG16_no_test/Set_1/models\\VGG16_no_test_1_1.model\\assets\n"
     ]
    },
    {
     "name": "stdout",
     "output_type": "stream",
     "text": [
      "117/117 [==============================] - 21s 176ms/step - loss: 0.6440 - accuracy: 0.8452 - lr: 0.0020\n",
      "Epoch 11/100\n",
      "117/117 [==============================] - ETA: 0s - loss: 0.6350 - accuracy: 0.8377\n",
      "Epoch 11: accuracy did not improve from 0.84524\n",
      "117/117 [==============================] - 20s 166ms/step - loss: 0.6350 - accuracy: 0.8377 - lr: 0.0020\n",
      "Epoch 12/100\n",
      "117/117 [==============================] - ETA: 0s - loss: 0.5996 - accuracy: 0.8522\n",
      "Epoch 12: accuracy improved from 0.84524 to 0.85223, saving model to C:/Ceramic_Models/no_wepo/VGG16_no_test/Set_1/models\\VGG16_no_test_1_1.model\n"
     ]
    },
    {
     "name": "stderr",
     "output_type": "stream",
     "text": [
      "WARNING:absl:Found untraced functions such as _jit_compiled_convolution_op, _jit_compiled_convolution_op, _jit_compiled_convolution_op, _jit_compiled_convolution_op, _jit_compiled_convolution_op while saving (showing 5 of 13). These functions will not be directly callable after loading.\n"
     ]
    },
    {
     "name": "stdout",
     "output_type": "stream",
     "text": [
      "INFO:tensorflow:Assets written to: C:/Ceramic_Models/no_wepo/VGG16_no_test/Set_1/models\\VGG16_no_test_1_1.model\\assets\n"
     ]
    },
    {
     "name": "stderr",
     "output_type": "stream",
     "text": [
      "INFO:tensorflow:Assets written to: C:/Ceramic_Models/no_wepo/VGG16_no_test/Set_1/models\\VGG16_no_test_1_1.model\\assets\n"
     ]
    },
    {
     "name": "stdout",
     "output_type": "stream",
     "text": [
      "117/117 [==============================] - 21s 178ms/step - loss: 0.5996 - accuracy: 0.8522 - lr: 0.0020\n",
      "Epoch 13/100\n",
      "117/117 [==============================] - ETA: 0s - loss: 0.5781 - accuracy: 0.8571\n",
      "Epoch 13: accuracy improved from 0.85223 to 0.85707, saving model to C:/Ceramic_Models/no_wepo/VGG16_no_test/Set_1/models\\VGG16_no_test_1_1.model\n"
     ]
    },
    {
     "name": "stderr",
     "output_type": "stream",
     "text": [
      "WARNING:absl:Found untraced functions such as _jit_compiled_convolution_op, _jit_compiled_convolution_op, _jit_compiled_convolution_op, _jit_compiled_convolution_op, _jit_compiled_convolution_op while saving (showing 5 of 13). These functions will not be directly callable after loading.\n"
     ]
    },
    {
     "name": "stdout",
     "output_type": "stream",
     "text": [
      "INFO:tensorflow:Assets written to: C:/Ceramic_Models/no_wepo/VGG16_no_test/Set_1/models\\VGG16_no_test_1_1.model\\assets\n"
     ]
    },
    {
     "name": "stderr",
     "output_type": "stream",
     "text": [
      "INFO:tensorflow:Assets written to: C:/Ceramic_Models/no_wepo/VGG16_no_test/Set_1/models\\VGG16_no_test_1_1.model\\assets\n"
     ]
    },
    {
     "name": "stdout",
     "output_type": "stream",
     "text": [
      "117/117 [==============================] - 21s 177ms/step - loss: 0.5781 - accuracy: 0.8571 - lr: 0.0020\n",
      "Epoch 14/100\n",
      "117/117 [==============================] - ETA: 0s - loss: 0.5503 - accuracy: 0.8716\n",
      "Epoch 14: accuracy improved from 0.85707 to 0.87157, saving model to C:/Ceramic_Models/no_wepo/VGG16_no_test/Set_1/models\\VGG16_no_test_1_1.model\n"
     ]
    },
    {
     "name": "stderr",
     "output_type": "stream",
     "text": [
      "WARNING:absl:Found untraced functions such as _jit_compiled_convolution_op, _jit_compiled_convolution_op, _jit_compiled_convolution_op, _jit_compiled_convolution_op, _jit_compiled_convolution_op while saving (showing 5 of 13). These functions will not be directly callable after loading.\n"
     ]
    },
    {
     "name": "stdout",
     "output_type": "stream",
     "text": [
      "INFO:tensorflow:Assets written to: C:/Ceramic_Models/no_wepo/VGG16_no_test/Set_1/models\\VGG16_no_test_1_1.model\\assets\n"
     ]
    },
    {
     "name": "stderr",
     "output_type": "stream",
     "text": [
      "INFO:tensorflow:Assets written to: C:/Ceramic_Models/no_wepo/VGG16_no_test/Set_1/models\\VGG16_no_test_1_1.model\\assets\n"
     ]
    },
    {
     "name": "stdout",
     "output_type": "stream",
     "text": [
      "117/117 [==============================] - 21s 181ms/step - loss: 0.5503 - accuracy: 0.8716 - lr: 0.0020\n",
      "Epoch 15/100\n",
      "117/117 [==============================] - ETA: 0s - loss: 0.5470 - accuracy: 0.8641\n",
      "Epoch 15: accuracy did not improve from 0.87157\n",
      "117/117 [==============================] - 19s 164ms/step - loss: 0.5470 - accuracy: 0.8641 - lr: 0.0020\n",
      "Epoch 16/100\n",
      "117/117 [==============================] - ETA: 0s - loss: 0.5315 - accuracy: 0.8780\n",
      "Epoch 16: accuracy improved from 0.87157 to 0.87802, saving model to C:/Ceramic_Models/no_wepo/VGG16_no_test/Set_1/models\\VGG16_no_test_1_1.model\n"
     ]
    },
    {
     "name": "stderr",
     "output_type": "stream",
     "text": [
      "WARNING:absl:Found untraced functions such as _jit_compiled_convolution_op, _jit_compiled_convolution_op, _jit_compiled_convolution_op, _jit_compiled_convolution_op, _jit_compiled_convolution_op while saving (showing 5 of 13). These functions will not be directly callable after loading.\n"
     ]
    },
    {
     "name": "stdout",
     "output_type": "stream",
     "text": [
      "INFO:tensorflow:Assets written to: C:/Ceramic_Models/no_wepo/VGG16_no_test/Set_1/models\\VGG16_no_test_1_1.model\\assets\n"
     ]
    },
    {
     "name": "stderr",
     "output_type": "stream",
     "text": [
      "INFO:tensorflow:Assets written to: C:/Ceramic_Models/no_wepo/VGG16_no_test/Set_1/models\\VGG16_no_test_1_1.model\\assets\n"
     ]
    },
    {
     "name": "stdout",
     "output_type": "stream",
     "text": [
      "117/117 [==============================] - 21s 176ms/step - loss: 0.5315 - accuracy: 0.8780 - lr: 0.0020\n",
      "Epoch 17/100\n",
      "117/117 [==============================] - ETA: 0s - loss: 0.5011 - accuracy: 0.8877\n",
      "Epoch 17: accuracy improved from 0.87802 to 0.88769, saving model to C:/Ceramic_Models/no_wepo/VGG16_no_test/Set_1/models\\VGG16_no_test_1_1.model\n"
     ]
    },
    {
     "name": "stderr",
     "output_type": "stream",
     "text": [
      "WARNING:absl:Found untraced functions such as _jit_compiled_convolution_op, _jit_compiled_convolution_op, _jit_compiled_convolution_op, _jit_compiled_convolution_op, _jit_compiled_convolution_op while saving (showing 5 of 13). These functions will not be directly callable after loading.\n"
     ]
    },
    {
     "name": "stdout",
     "output_type": "stream",
     "text": [
      "INFO:tensorflow:Assets written to: C:/Ceramic_Models/no_wepo/VGG16_no_test/Set_1/models\\VGG16_no_test_1_1.model\\assets\n"
     ]
    },
    {
     "name": "stderr",
     "output_type": "stream",
     "text": [
      "INFO:tensorflow:Assets written to: C:/Ceramic_Models/no_wepo/VGG16_no_test/Set_1/models\\VGG16_no_test_1_1.model\\assets\n"
     ]
    },
    {
     "name": "stdout",
     "output_type": "stream",
     "text": [
      "117/117 [==============================] - 21s 177ms/step - loss: 0.5011 - accuracy: 0.8877 - lr: 0.0020\n",
      "Epoch 18/100\n",
      "117/117 [==============================] - ETA: 0s - loss: 0.5002 - accuracy: 0.8850\n",
      "Epoch 18: accuracy did not improve from 0.88769\n",
      "117/117 [==============================] - 19s 163ms/step - loss: 0.5002 - accuracy: 0.8850 - lr: 0.0020\n",
      "Epoch 19/100\n",
      "117/117 [==============================] - ETA: 0s - loss: 0.4853 - accuracy: 0.8915\n",
      "Epoch 19: accuracy improved from 0.88769 to 0.89146, saving model to C:/Ceramic_Models/no_wepo/VGG16_no_test/Set_1/models\\VGG16_no_test_1_1.model\n"
     ]
    },
    {
     "name": "stderr",
     "output_type": "stream",
     "text": [
      "WARNING:absl:Found untraced functions such as _jit_compiled_convolution_op, _jit_compiled_convolution_op, _jit_compiled_convolution_op, _jit_compiled_convolution_op, _jit_compiled_convolution_op while saving (showing 5 of 13). These functions will not be directly callable after loading.\n"
     ]
    },
    {
     "name": "stdout",
     "output_type": "stream",
     "text": [
      "INFO:tensorflow:Assets written to: C:/Ceramic_Models/no_wepo/VGG16_no_test/Set_1/models\\VGG16_no_test_1_1.model\\assets\n"
     ]
    },
    {
     "name": "stderr",
     "output_type": "stream",
     "text": [
      "INFO:tensorflow:Assets written to: C:/Ceramic_Models/no_wepo/VGG16_no_test/Set_1/models\\VGG16_no_test_1_1.model\\assets\n"
     ]
    },
    {
     "name": "stdout",
     "output_type": "stream",
     "text": [
      "117/117 [==============================] - 21s 177ms/step - loss: 0.4853 - accuracy: 0.8915 - lr: 0.0020\n",
      "Epoch 20/100\n",
      "117/117 [==============================] - ETA: 0s - loss: 0.4864 - accuracy: 0.8925\n",
      "Epoch 20: accuracy improved from 0.89146 to 0.89253, saving model to C:/Ceramic_Models/no_wepo/VGG16_no_test/Set_1/models\\VGG16_no_test_1_1.model\n"
     ]
    },
    {
     "name": "stderr",
     "output_type": "stream",
     "text": [
      "WARNING:absl:Found untraced functions such as _jit_compiled_convolution_op, _jit_compiled_convolution_op, _jit_compiled_convolution_op, _jit_compiled_convolution_op, _jit_compiled_convolution_op while saving (showing 5 of 13). These functions will not be directly callable after loading.\n"
     ]
    },
    {
     "name": "stdout",
     "output_type": "stream",
     "text": [
      "INFO:tensorflow:Assets written to: C:/Ceramic_Models/no_wepo/VGG16_no_test/Set_1/models\\VGG16_no_test_1_1.model\\assets\n"
     ]
    },
    {
     "name": "stderr",
     "output_type": "stream",
     "text": [
      "INFO:tensorflow:Assets written to: C:/Ceramic_Models/no_wepo/VGG16_no_test/Set_1/models\\VGG16_no_test_1_1.model\\assets\n"
     ]
    },
    {
     "name": "stdout",
     "output_type": "stream",
     "text": [
      "117/117 [==============================] - 21s 176ms/step - loss: 0.4864 - accuracy: 0.8925 - lr: 0.0020\n",
      "Epoch 21/100\n",
      "117/117 [==============================] - ETA: 0s - loss: 0.4848 - accuracy: 0.8882\n",
      "Epoch 21: accuracy did not improve from 0.89253\n",
      "117/117 [==============================] - 19s 161ms/step - loss: 0.4848 - accuracy: 0.8882 - lr: 0.0020\n",
      "Epoch 22/100\n",
      "117/117 [==============================] - ETA: 0s - loss: 0.3994 - accuracy: 0.9135\n",
      "Epoch 22: accuracy improved from 0.89253 to 0.91349, saving model to C:/Ceramic_Models/no_wepo/VGG16_no_test/Set_1/models\\VGG16_no_test_1_1.model\n"
     ]
    },
    {
     "name": "stderr",
     "output_type": "stream",
     "text": [
      "WARNING:absl:Found untraced functions such as _jit_compiled_convolution_op, _jit_compiled_convolution_op, _jit_compiled_convolution_op, _jit_compiled_convolution_op, _jit_compiled_convolution_op while saving (showing 5 of 13). These functions will not be directly callable after loading.\n"
     ]
    },
    {
     "name": "stdout",
     "output_type": "stream",
     "text": [
      "INFO:tensorflow:Assets written to: C:/Ceramic_Models/no_wepo/VGG16_no_test/Set_1/models\\VGG16_no_test_1_1.model\\assets\n"
     ]
    },
    {
     "name": "stderr",
     "output_type": "stream",
     "text": [
      "INFO:tensorflow:Assets written to: C:/Ceramic_Models/no_wepo/VGG16_no_test/Set_1/models\\VGG16_no_test_1_1.model\\assets\n"
     ]
    },
    {
     "name": "stdout",
     "output_type": "stream",
     "text": [
      "117/117 [==============================] - 21s 175ms/step - loss: 0.3994 - accuracy: 0.9135 - lr: 0.0015\n",
      "Epoch 23/100\n",
      "117/117 [==============================] - ETA: 0s - loss: 0.3923 - accuracy: 0.9178\n",
      "Epoch 23: accuracy improved from 0.91349 to 0.91779, saving model to C:/Ceramic_Models/no_wepo/VGG16_no_test/Set_1/models\\VGG16_no_test_1_1.model\n"
     ]
    },
    {
     "name": "stderr",
     "output_type": "stream",
     "text": [
      "WARNING:absl:Found untraced functions such as _jit_compiled_convolution_op, _jit_compiled_convolution_op, _jit_compiled_convolution_op, _jit_compiled_convolution_op, _jit_compiled_convolution_op while saving (showing 5 of 13). These functions will not be directly callable after loading.\n"
     ]
    },
    {
     "name": "stdout",
     "output_type": "stream",
     "text": [
      "INFO:tensorflow:Assets written to: C:/Ceramic_Models/no_wepo/VGG16_no_test/Set_1/models\\VGG16_no_test_1_1.model\\assets\n"
     ]
    },
    {
     "name": "stderr",
     "output_type": "stream",
     "text": [
      "INFO:tensorflow:Assets written to: C:/Ceramic_Models/no_wepo/VGG16_no_test/Set_1/models\\VGG16_no_test_1_1.model\\assets\n"
     ]
    },
    {
     "name": "stdout",
     "output_type": "stream",
     "text": [
      "117/117 [==============================] - 21s 175ms/step - loss: 0.3923 - accuracy: 0.9178 - lr: 0.0015\n",
      "Epoch 24/100\n",
      "117/117 [==============================] - ETA: 0s - loss: 0.3827 - accuracy: 0.9215\n",
      "Epoch 24: accuracy improved from 0.91779 to 0.92155, saving model to C:/Ceramic_Models/no_wepo/VGG16_no_test/Set_1/models\\VGG16_no_test_1_1.model\n"
     ]
    },
    {
     "name": "stderr",
     "output_type": "stream",
     "text": [
      "WARNING:absl:Found untraced functions such as _jit_compiled_convolution_op, _jit_compiled_convolution_op, _jit_compiled_convolution_op, _jit_compiled_convolution_op, _jit_compiled_convolution_op while saving (showing 5 of 13). These functions will not be directly callable after loading.\n"
     ]
    },
    {
     "name": "stdout",
     "output_type": "stream",
     "text": [
      "INFO:tensorflow:Assets written to: C:/Ceramic_Models/no_wepo/VGG16_no_test/Set_1/models\\VGG16_no_test_1_1.model\\assets\n"
     ]
    },
    {
     "name": "stderr",
     "output_type": "stream",
     "text": [
      "INFO:tensorflow:Assets written to: C:/Ceramic_Models/no_wepo/VGG16_no_test/Set_1/models\\VGG16_no_test_1_1.model\\assets\n"
     ]
    },
    {
     "name": "stdout",
     "output_type": "stream",
     "text": [
      "117/117 [==============================] - 21s 177ms/step - loss: 0.3827 - accuracy: 0.9215 - lr: 0.0015\n",
      "Epoch 25/100\n",
      "117/117 [==============================] - ETA: 0s - loss: 0.3713 - accuracy: 0.9194\n",
      "Epoch 25: accuracy did not improve from 0.92155\n",
      "117/117 [==============================] - 19s 161ms/step - loss: 0.3713 - accuracy: 0.9194 - lr: 0.0015\n",
      "Epoch 26/100\n",
      "117/117 [==============================] - ETA: 0s - loss: 0.3634 - accuracy: 0.9258\n",
      "Epoch 26: accuracy improved from 0.92155 to 0.92585, saving model to C:/Ceramic_Models/no_wepo/VGG16_no_test/Set_1/models\\VGG16_no_test_1_1.model\n"
     ]
    },
    {
     "name": "stderr",
     "output_type": "stream",
     "text": [
      "WARNING:absl:Found untraced functions such as _jit_compiled_convolution_op, _jit_compiled_convolution_op, _jit_compiled_convolution_op, _jit_compiled_convolution_op, _jit_compiled_convolution_op while saving (showing 5 of 13). These functions will not be directly callable after loading.\n"
     ]
    },
    {
     "name": "stdout",
     "output_type": "stream",
     "text": [
      "INFO:tensorflow:Assets written to: C:/Ceramic_Models/no_wepo/VGG16_no_test/Set_1/models\\VGG16_no_test_1_1.model\\assets\n"
     ]
    },
    {
     "name": "stderr",
     "output_type": "stream",
     "text": [
      "INFO:tensorflow:Assets written to: C:/Ceramic_Models/no_wepo/VGG16_no_test/Set_1/models\\VGG16_no_test_1_1.model\\assets\n"
     ]
    },
    {
     "name": "stdout",
     "output_type": "stream",
     "text": [
      "117/117 [==============================] - 21s 175ms/step - loss: 0.3634 - accuracy: 0.9258 - lr: 0.0015\n",
      "Epoch 27/100\n",
      "117/117 [==============================] - ETA: 0s - loss: 0.3573 - accuracy: 0.9323\n",
      "Epoch 27: accuracy improved from 0.92585 to 0.93229, saving model to C:/Ceramic_Models/no_wepo/VGG16_no_test/Set_1/models\\VGG16_no_test_1_1.model\n"
     ]
    },
    {
     "name": "stderr",
     "output_type": "stream",
     "text": [
      "WARNING:absl:Found untraced functions such as _jit_compiled_convolution_op, _jit_compiled_convolution_op, _jit_compiled_convolution_op, _jit_compiled_convolution_op, _jit_compiled_convolution_op while saving (showing 5 of 13). These functions will not be directly callable after loading.\n"
     ]
    },
    {
     "name": "stdout",
     "output_type": "stream",
     "text": [
      "INFO:tensorflow:Assets written to: C:/Ceramic_Models/no_wepo/VGG16_no_test/Set_1/models\\VGG16_no_test_1_1.model\\assets\n"
     ]
    },
    {
     "name": "stderr",
     "output_type": "stream",
     "text": [
      "INFO:tensorflow:Assets written to: C:/Ceramic_Models/no_wepo/VGG16_no_test/Set_1/models\\VGG16_no_test_1_1.model\\assets\n"
     ]
    },
    {
     "name": "stdout",
     "output_type": "stream",
     "text": [
      "117/117 [==============================] - 21s 176ms/step - loss: 0.3573 - accuracy: 0.9323 - lr: 0.0015\n",
      "Epoch 28/100\n",
      "117/117 [==============================] - ETA: 0s - loss: 0.3494 - accuracy: 0.9312\n",
      "Epoch 28: accuracy did not improve from 0.93229\n",
      "117/117 [==============================] - 19s 161ms/step - loss: 0.3494 - accuracy: 0.9312 - lr: 0.0015\n",
      "Epoch 29/100\n",
      "117/117 [==============================] - ETA: 0s - loss: 0.3482 - accuracy: 0.9226\n",
      "Epoch 29: accuracy did not improve from 0.93229\n",
      "117/117 [==============================] - 19s 161ms/step - loss: 0.3482 - accuracy: 0.9226 - lr: 0.0015\n",
      "Epoch 30/100\n",
      "117/117 [==============================] - ETA: 0s - loss: 0.3356 - accuracy: 0.9371\n",
      "Epoch 30: accuracy improved from 0.93229 to 0.93713, saving model to C:/Ceramic_Models/no_wepo/VGG16_no_test/Set_1/models\\VGG16_no_test_1_1.model\n"
     ]
    },
    {
     "name": "stderr",
     "output_type": "stream",
     "text": [
      "WARNING:absl:Found untraced functions such as _jit_compiled_convolution_op, _jit_compiled_convolution_op, _jit_compiled_convolution_op, _jit_compiled_convolution_op, _jit_compiled_convolution_op while saving (showing 5 of 13). These functions will not be directly callable after loading.\n"
     ]
    },
    {
     "name": "stdout",
     "output_type": "stream",
     "text": [
      "INFO:tensorflow:Assets written to: C:/Ceramic_Models/no_wepo/VGG16_no_test/Set_1/models\\VGG16_no_test_1_1.model\\assets\n"
     ]
    },
    {
     "name": "stderr",
     "output_type": "stream",
     "text": [
      "INFO:tensorflow:Assets written to: C:/Ceramic_Models/no_wepo/VGG16_no_test/Set_1/models\\VGG16_no_test_1_1.model\\assets\n"
     ]
    },
    {
     "name": "stdout",
     "output_type": "stream",
     "text": [
      "117/117 [==============================] - 21s 175ms/step - loss: 0.3356 - accuracy: 0.9371 - lr: 0.0015\n",
      "Epoch 31/100\n",
      "117/117 [==============================] - ETA: 0s - loss: 0.3459 - accuracy: 0.9280\n",
      "Epoch 31: accuracy did not improve from 0.93713\n",
      "117/117 [==============================] - 19s 161ms/step - loss: 0.3459 - accuracy: 0.9280 - lr: 0.0015\n",
      "Epoch 32/100\n",
      "117/117 [==============================] - ETA: 0s - loss: 0.3574 - accuracy: 0.9301\n",
      "Epoch 32: accuracy did not improve from 0.93713\n",
      "117/117 [==============================] - 19s 162ms/step - loss: 0.3574 - accuracy: 0.9301 - lr: 0.0015\n",
      "Epoch 33/100\n",
      "117/117 [==============================] - ETA: 0s - loss: 0.3166 - accuracy: 0.9371\n",
      "Epoch 33: accuracy did not improve from 0.93713\n",
      "117/117 [==============================] - 19s 164ms/step - loss: 0.3166 - accuracy: 0.9371 - lr: 0.0015\n",
      "Epoch 34/100\n",
      "117/117 [==============================] - ETA: 0s - loss: 0.3030 - accuracy: 0.9414\n",
      "Epoch 34: accuracy improved from 0.93713 to 0.94143, saving model to C:/Ceramic_Models/no_wepo/VGG16_no_test/Set_1/models\\VGG16_no_test_1_1.model\n"
     ]
    },
    {
     "name": "stderr",
     "output_type": "stream",
     "text": [
      "WARNING:absl:Found untraced functions such as _jit_compiled_convolution_op, _jit_compiled_convolution_op, _jit_compiled_convolution_op, _jit_compiled_convolution_op, _jit_compiled_convolution_op while saving (showing 5 of 13). These functions will not be directly callable after loading.\n"
     ]
    },
    {
     "name": "stdout",
     "output_type": "stream",
     "text": [
      "INFO:tensorflow:Assets written to: C:/Ceramic_Models/no_wepo/VGG16_no_test/Set_1/models\\VGG16_no_test_1_1.model\\assets\n"
     ]
    },
    {
     "name": "stderr",
     "output_type": "stream",
     "text": [
      "INFO:tensorflow:Assets written to: C:/Ceramic_Models/no_wepo/VGG16_no_test/Set_1/models\\VGG16_no_test_1_1.model\\assets\n"
     ]
    },
    {
     "name": "stdout",
     "output_type": "stream",
     "text": [
      "117/117 [==============================] - 21s 176ms/step - loss: 0.3030 - accuracy: 0.9414 - lr: 0.0015\n",
      "Epoch 35/100\n",
      "117/117 [==============================] - ETA: 0s - loss: 0.2791 - accuracy: 0.9522\n",
      "Epoch 35: accuracy improved from 0.94143 to 0.95218, saving model to C:/Ceramic_Models/no_wepo/VGG16_no_test/Set_1/models\\VGG16_no_test_1_1.model\n"
     ]
    },
    {
     "name": "stderr",
     "output_type": "stream",
     "text": [
      "WARNING:absl:Found untraced functions such as _jit_compiled_convolution_op, _jit_compiled_convolution_op, _jit_compiled_convolution_op, _jit_compiled_convolution_op, _jit_compiled_convolution_op while saving (showing 5 of 13). These functions will not be directly callable after loading.\n"
     ]
    },
    {
     "name": "stdout",
     "output_type": "stream",
     "text": [
      "INFO:tensorflow:Assets written to: C:/Ceramic_Models/no_wepo/VGG16_no_test/Set_1/models\\VGG16_no_test_1_1.model\\assets\n"
     ]
    },
    {
     "name": "stderr",
     "output_type": "stream",
     "text": [
      "INFO:tensorflow:Assets written to: C:/Ceramic_Models/no_wepo/VGG16_no_test/Set_1/models\\VGG16_no_test_1_1.model\\assets\n"
     ]
    },
    {
     "name": "stdout",
     "output_type": "stream",
     "text": [
      "117/117 [==============================] - 21s 175ms/step - loss: 0.2791 - accuracy: 0.9522 - lr: 0.0015\n",
      "Epoch 36/100\n",
      "117/117 [==============================] - ETA: 0s - loss: 0.3083 - accuracy: 0.9366\n",
      "Epoch 36: accuracy did not improve from 0.95218\n",
      "117/117 [==============================] - 19s 161ms/step - loss: 0.3083 - accuracy: 0.9366 - lr: 0.0015\n",
      "Epoch 37/100\n",
      "117/117 [==============================] - ETA: 0s - loss: 0.3107 - accuracy: 0.9371\n",
      "Epoch 37: accuracy did not improve from 0.95218\n",
      "117/117 [==============================] - 19s 161ms/step - loss: 0.3107 - accuracy: 0.9371 - lr: 0.0015\n",
      "Epoch 38/100\n",
      "117/117 [==============================] - ETA: 0s - loss: 0.3028 - accuracy: 0.9425\n",
      "Epoch 38: accuracy did not improve from 0.95218\n",
      "117/117 [==============================] - 19s 161ms/step - loss: 0.3028 - accuracy: 0.9425 - lr: 0.0015\n",
      "Epoch 39/100\n",
      "117/117 [==============================] - ETA: 0s - loss: 0.2914 - accuracy: 0.9430\n",
      "Epoch 39: accuracy did not improve from 0.95218\n",
      "117/117 [==============================] - 20s 167ms/step - loss: 0.2914 - accuracy: 0.9430 - lr: 0.0015\n",
      "Epoch 40/100\n",
      "117/117 [==============================] - ETA: 0s - loss: 0.2856 - accuracy: 0.9495\n",
      "Epoch 40: accuracy did not improve from 0.95218\n",
      "117/117 [==============================] - 20s 166ms/step - loss: 0.2856 - accuracy: 0.9495 - lr: 0.0015\n",
      "Epoch 41/100\n",
      "117/117 [==============================] - ETA: 0s - loss: 0.2577 - accuracy: 0.9608\n",
      "Epoch 41: accuracy improved from 0.95218 to 0.96077, saving model to C:/Ceramic_Models/no_wepo/VGG16_no_test/Set_1/models\\VGG16_no_test_1_1.model\n"
     ]
    },
    {
     "name": "stderr",
     "output_type": "stream",
     "text": [
      "WARNING:absl:Found untraced functions such as _jit_compiled_convolution_op, _jit_compiled_convolution_op, _jit_compiled_convolution_op, _jit_compiled_convolution_op, _jit_compiled_convolution_op while saving (showing 5 of 13). These functions will not be directly callable after loading.\n"
     ]
    },
    {
     "name": "stdout",
     "output_type": "stream",
     "text": [
      "INFO:tensorflow:Assets written to: C:/Ceramic_Models/no_wepo/VGG16_no_test/Set_1/models\\VGG16_no_test_1_1.model\\assets\n"
     ]
    },
    {
     "name": "stderr",
     "output_type": "stream",
     "text": [
      "INFO:tensorflow:Assets written to: C:/Ceramic_Models/no_wepo/VGG16_no_test/Set_1/models\\VGG16_no_test_1_1.model\\assets\n"
     ]
    },
    {
     "name": "stdout",
     "output_type": "stream",
     "text": [
      "117/117 [==============================] - 22s 186ms/step - loss: 0.2577 - accuracy: 0.9608 - lr: 0.0015\n",
      "Epoch 42/100\n",
      "117/117 [==============================] - ETA: 0s - loss: 0.2309 - accuracy: 0.9586\n",
      "Epoch 42: accuracy did not improve from 0.96077\n",
      "117/117 [==============================] - 20s 166ms/step - loss: 0.2309 - accuracy: 0.9586 - lr: 0.0010\n",
      "Epoch 43/100\n",
      "117/117 [==============================] - ETA: 0s - loss: 0.2161 - accuracy: 0.9694\n",
      "Epoch 43: accuracy improved from 0.96077 to 0.96937, saving model to C:/Ceramic_Models/no_wepo/VGG16_no_test/Set_1/models\\VGG16_no_test_1_1.model\n"
     ]
    },
    {
     "name": "stderr",
     "output_type": "stream",
     "text": [
      "WARNING:absl:Found untraced functions such as _jit_compiled_convolution_op, _jit_compiled_convolution_op, _jit_compiled_convolution_op, _jit_compiled_convolution_op, _jit_compiled_convolution_op while saving (showing 5 of 13). These functions will not be directly callable after loading.\n"
     ]
    },
    {
     "name": "stdout",
     "output_type": "stream",
     "text": [
      "INFO:tensorflow:Assets written to: C:/Ceramic_Models/no_wepo/VGG16_no_test/Set_1/models\\VGG16_no_test_1_1.model\\assets\n"
     ]
    },
    {
     "name": "stderr",
     "output_type": "stream",
     "text": [
      "INFO:tensorflow:Assets written to: C:/Ceramic_Models/no_wepo/VGG16_no_test/Set_1/models\\VGG16_no_test_1_1.model\\assets\n"
     ]
    },
    {
     "name": "stdout",
     "output_type": "stream",
     "text": [
      "117/117 [==============================] - 21s 175ms/step - loss: 0.2161 - accuracy: 0.9694 - lr: 0.0010\n",
      "Epoch 44/100\n",
      "117/117 [==============================] - ETA: 0s - loss: 0.2114 - accuracy: 0.9731\n",
      "Epoch 44: accuracy improved from 0.96937 to 0.97313, saving model to C:/Ceramic_Models/no_wepo/VGG16_no_test/Set_1/models\\VGG16_no_test_1_1.model\n"
     ]
    },
    {
     "name": "stderr",
     "output_type": "stream",
     "text": [
      "WARNING:absl:Found untraced functions such as _jit_compiled_convolution_op, _jit_compiled_convolution_op, _jit_compiled_convolution_op, _jit_compiled_convolution_op, _jit_compiled_convolution_op while saving (showing 5 of 13). These functions will not be directly callable after loading.\n"
     ]
    },
    {
     "name": "stdout",
     "output_type": "stream",
     "text": [
      "INFO:tensorflow:Assets written to: C:/Ceramic_Models/no_wepo/VGG16_no_test/Set_1/models\\VGG16_no_test_1_1.model\\assets\n"
     ]
    },
    {
     "name": "stderr",
     "output_type": "stream",
     "text": [
      "INFO:tensorflow:Assets written to: C:/Ceramic_Models/no_wepo/VGG16_no_test/Set_1/models\\VGG16_no_test_1_1.model\\assets\n"
     ]
    },
    {
     "name": "stdout",
     "output_type": "stream",
     "text": [
      "117/117 [==============================] - 21s 175ms/step - loss: 0.2114 - accuracy: 0.9731 - lr: 0.0010\n",
      "Epoch 45/100\n",
      "117/117 [==============================] - ETA: 0s - loss: 0.2113 - accuracy: 0.9699\n",
      "Epoch 45: accuracy did not improve from 0.97313\n",
      "117/117 [==============================] - 20s 166ms/step - loss: 0.2113 - accuracy: 0.9699 - lr: 0.0010\n",
      "Epoch 46/100\n",
      "117/117 [==============================] - ETA: 0s - loss: 0.2212 - accuracy: 0.9667\n",
      "Epoch 46: accuracy did not improve from 0.97313\n",
      "117/117 [==============================] - 20s 167ms/step - loss: 0.2212 - accuracy: 0.9667 - lr: 0.0010\n",
      "Epoch 47/100\n",
      "117/117 [==============================] - ETA: 0s - loss: 0.2032 - accuracy: 0.9753\n",
      "Epoch 47: accuracy improved from 0.97313 to 0.97528, saving model to C:/Ceramic_Models/no_wepo/VGG16_no_test/Set_1/models\\VGG16_no_test_1_1.model\n"
     ]
    },
    {
     "name": "stderr",
     "output_type": "stream",
     "text": [
      "WARNING:absl:Found untraced functions such as _jit_compiled_convolution_op, _jit_compiled_convolution_op, _jit_compiled_convolution_op, _jit_compiled_convolution_op, _jit_compiled_convolution_op while saving (showing 5 of 13). These functions will not be directly callable after loading.\n"
     ]
    },
    {
     "name": "stdout",
     "output_type": "stream",
     "text": [
      "INFO:tensorflow:Assets written to: C:/Ceramic_Models/no_wepo/VGG16_no_test/Set_1/models\\VGG16_no_test_1_1.model\\assets\n"
     ]
    },
    {
     "name": "stderr",
     "output_type": "stream",
     "text": [
      "INFO:tensorflow:Assets written to: C:/Ceramic_Models/no_wepo/VGG16_no_test/Set_1/models\\VGG16_no_test_1_1.model\\assets\n"
     ]
    },
    {
     "name": "stdout",
     "output_type": "stream",
     "text": [
      "117/117 [==============================] - 21s 182ms/step - loss: 0.2032 - accuracy: 0.9753 - lr: 0.0010\n",
      "Epoch 48/100\n",
      "117/117 [==============================] - ETA: 0s - loss: 0.2007 - accuracy: 0.9726\n",
      "Epoch 48: accuracy did not improve from 0.97528\n",
      "117/117 [==============================] - 20s 166ms/step - loss: 0.2007 - accuracy: 0.9726 - lr: 0.0010\n",
      "Epoch 49/100\n",
      "117/117 [==============================] - ETA: 0s - loss: 0.2004 - accuracy: 0.9753\n",
      "Epoch 49: accuracy did not improve from 0.97528\n",
      "117/117 [==============================] - 19s 164ms/step - loss: 0.2004 - accuracy: 0.9753 - lr: 0.0010\n",
      "Epoch 50/100\n",
      "117/117 [==============================] - ETA: 0s - loss: 0.1916 - accuracy: 0.9758\n",
      "Epoch 50: accuracy improved from 0.97528 to 0.97582, saving model to C:/Ceramic_Models/no_wepo/VGG16_no_test/Set_1/models\\VGG16_no_test_1_1.model\n"
     ]
    },
    {
     "name": "stderr",
     "output_type": "stream",
     "text": [
      "WARNING:absl:Found untraced functions such as _jit_compiled_convolution_op, _jit_compiled_convolution_op, _jit_compiled_convolution_op, _jit_compiled_convolution_op, _jit_compiled_convolution_op while saving (showing 5 of 13). These functions will not be directly callable after loading.\n"
     ]
    },
    {
     "name": "stdout",
     "output_type": "stream",
     "text": [
      "INFO:tensorflow:Assets written to: C:/Ceramic_Models/no_wepo/VGG16_no_test/Set_1/models\\VGG16_no_test_1_1.model\\assets\n"
     ]
    },
    {
     "name": "stderr",
     "output_type": "stream",
     "text": [
      "INFO:tensorflow:Assets written to: C:/Ceramic_Models/no_wepo/VGG16_no_test/Set_1/models\\VGG16_no_test_1_1.model\\assets\n"
     ]
    },
    {
     "name": "stdout",
     "output_type": "stream",
     "text": [
      "117/117 [==============================] - 21s 177ms/step - loss: 0.1916 - accuracy: 0.9758 - lr: 0.0010\n",
      "Epoch 51/100\n",
      "117/117 [==============================] - ETA: 0s - loss: 0.1980 - accuracy: 0.9715\n",
      "Epoch 51: accuracy did not improve from 0.97582\n",
      "117/117 [==============================] - 19s 163ms/step - loss: 0.1980 - accuracy: 0.9715 - lr: 0.0010\n",
      "Epoch 52/100\n",
      "117/117 [==============================] - ETA: 0s - loss: 0.2149 - accuracy: 0.9635\n",
      "Epoch 52: accuracy did not improve from 0.97582\n",
      "117/117 [==============================] - 19s 162ms/step - loss: 0.2149 - accuracy: 0.9635 - lr: 0.0010\n",
      "Epoch 53/100\n",
      "117/117 [==============================] - ETA: 0s - loss: 0.2087 - accuracy: 0.9694\n",
      "Epoch 53: accuracy did not improve from 0.97582\n",
      "117/117 [==============================] - 19s 162ms/step - loss: 0.2087 - accuracy: 0.9694 - lr: 0.0010\n",
      "Epoch 54/100\n",
      "117/117 [==============================] - ETA: 0s - loss: 0.2036 - accuracy: 0.9688\n",
      "Epoch 54: accuracy did not improve from 0.97582\n",
      "117/117 [==============================] - 19s 162ms/step - loss: 0.2036 - accuracy: 0.9688 - lr: 0.0010\n",
      "Epoch 55/100\n",
      "117/117 [==============================] - ETA: 0s - loss: 0.1900 - accuracy: 0.9780\n",
      "Epoch 55: accuracy improved from 0.97582 to 0.97797, saving model to C:/Ceramic_Models/no_wepo/VGG16_no_test/Set_1/models\\VGG16_no_test_1_1.model\n"
     ]
    },
    {
     "name": "stderr",
     "output_type": "stream",
     "text": [
      "WARNING:absl:Found untraced functions such as _jit_compiled_convolution_op, _jit_compiled_convolution_op, _jit_compiled_convolution_op, _jit_compiled_convolution_op, _jit_compiled_convolution_op while saving (showing 5 of 13). These functions will not be directly callable after loading.\n"
     ]
    },
    {
     "name": "stdout",
     "output_type": "stream",
     "text": [
      "INFO:tensorflow:Assets written to: C:/Ceramic_Models/no_wepo/VGG16_no_test/Set_1/models\\VGG16_no_test_1_1.model\\assets\n"
     ]
    },
    {
     "name": "stderr",
     "output_type": "stream",
     "text": [
      "INFO:tensorflow:Assets written to: C:/Ceramic_Models/no_wepo/VGG16_no_test/Set_1/models\\VGG16_no_test_1_1.model\\assets\n"
     ]
    },
    {
     "name": "stdout",
     "output_type": "stream",
     "text": [
      "117/117 [==============================] - 21s 177ms/step - loss: 0.1900 - accuracy: 0.9780 - lr: 0.0010\n",
      "Epoch 56/100\n",
      "117/117 [==============================] - ETA: 0s - loss: 0.1870 - accuracy: 0.9737\n",
      "Epoch 56: accuracy did not improve from 0.97797\n",
      "117/117 [==============================] - 19s 163ms/step - loss: 0.1870 - accuracy: 0.9737 - lr: 0.0010\n",
      "Epoch 57/100\n",
      "117/117 [==============================] - ETA: 0s - loss: 0.2158 - accuracy: 0.9602\n",
      "Epoch 57: accuracy did not improve from 0.97797\n",
      "117/117 [==============================] - 19s 162ms/step - loss: 0.2158 - accuracy: 0.9602 - lr: 0.0010\n",
      "Epoch 58/100\n",
      "117/117 [==============================] - ETA: 0s - loss: 0.1802 - accuracy: 0.9758\n",
      "Epoch 58: accuracy did not improve from 0.97797\n",
      "117/117 [==============================] - 19s 162ms/step - loss: 0.1802 - accuracy: 0.9758 - lr: 0.0010\n",
      "Epoch 59/100\n",
      "117/117 [==============================] - ETA: 0s - loss: 0.1743 - accuracy: 0.9828\n",
      "Epoch 59: accuracy improved from 0.97797 to 0.98280, saving model to C:/Ceramic_Models/no_wepo/VGG16_no_test/Set_1/models\\VGG16_no_test_1_1.model\n"
     ]
    },
    {
     "name": "stderr",
     "output_type": "stream",
     "text": [
      "WARNING:absl:Found untraced functions such as _jit_compiled_convolution_op, _jit_compiled_convolution_op, _jit_compiled_convolution_op, _jit_compiled_convolution_op, _jit_compiled_convolution_op while saving (showing 5 of 13). These functions will not be directly callable after loading.\n"
     ]
    },
    {
     "name": "stdout",
     "output_type": "stream",
     "text": [
      "INFO:tensorflow:Assets written to: C:/Ceramic_Models/no_wepo/VGG16_no_test/Set_1/models\\VGG16_no_test_1_1.model\\assets\n"
     ]
    },
    {
     "name": "stderr",
     "output_type": "stream",
     "text": [
      "INFO:tensorflow:Assets written to: C:/Ceramic_Models/no_wepo/VGG16_no_test/Set_1/models\\VGG16_no_test_1_1.model\\assets\n"
     ]
    },
    {
     "name": "stdout",
     "output_type": "stream",
     "text": [
      "117/117 [==============================] - 21s 175ms/step - loss: 0.1743 - accuracy: 0.9828 - lr: 0.0010\n",
      "Epoch 60/100\n",
      "117/117 [==============================] - ETA: 0s - loss: 0.1831 - accuracy: 0.9801\n",
      "Epoch 60: accuracy did not improve from 0.98280\n",
      "117/117 [==============================] - 19s 162ms/step - loss: 0.1831 - accuracy: 0.9801 - lr: 0.0010\n",
      "Epoch 61/100\n",
      "117/117 [==============================] - ETA: 0s - loss: 0.1709 - accuracy: 0.9839\n",
      "Epoch 61: accuracy improved from 0.98280 to 0.98388, saving model to C:/Ceramic_Models/no_wepo/VGG16_no_test/Set_1/models\\VGG16_no_test_1_1.model\n"
     ]
    },
    {
     "name": "stderr",
     "output_type": "stream",
     "text": [
      "WARNING:absl:Found untraced functions such as _jit_compiled_convolution_op, _jit_compiled_convolution_op, _jit_compiled_convolution_op, _jit_compiled_convolution_op, _jit_compiled_convolution_op while saving (showing 5 of 13). These functions will not be directly callable after loading.\n"
     ]
    },
    {
     "name": "stdout",
     "output_type": "stream",
     "text": [
      "INFO:tensorflow:Assets written to: C:/Ceramic_Models/no_wepo/VGG16_no_test/Set_1/models\\VGG16_no_test_1_1.model\\assets\n"
     ]
    },
    {
     "name": "stderr",
     "output_type": "stream",
     "text": [
      "INFO:tensorflow:Assets written to: C:/Ceramic_Models/no_wepo/VGG16_no_test/Set_1/models\\VGG16_no_test_1_1.model\\assets\n"
     ]
    },
    {
     "name": "stdout",
     "output_type": "stream",
     "text": [
      "117/117 [==============================] - 21s 177ms/step - loss: 0.1709 - accuracy: 0.9839 - lr: 0.0010\n",
      "Epoch 62/100\n",
      "117/117 [==============================] - ETA: 0s - loss: 0.1545 - accuracy: 0.9903\n",
      "Epoch 62: accuracy improved from 0.98388 to 0.99033, saving model to C:/Ceramic_Models/no_wepo/VGG16_no_test/Set_1/models\\VGG16_no_test_1_1.model\n"
     ]
    },
    {
     "name": "stderr",
     "output_type": "stream",
     "text": [
      "WARNING:absl:Found untraced functions such as _jit_compiled_convolution_op, _jit_compiled_convolution_op, _jit_compiled_convolution_op, _jit_compiled_convolution_op, _jit_compiled_convolution_op while saving (showing 5 of 13). These functions will not be directly callable after loading.\n"
     ]
    },
    {
     "name": "stdout",
     "output_type": "stream",
     "text": [
      "INFO:tensorflow:Assets written to: C:/Ceramic_Models/no_wepo/VGG16_no_test/Set_1/models\\VGG16_no_test_1_1.model\\assets\n"
     ]
    },
    {
     "name": "stderr",
     "output_type": "stream",
     "text": [
      "INFO:tensorflow:Assets written to: C:/Ceramic_Models/no_wepo/VGG16_no_test/Set_1/models\\VGG16_no_test_1_1.model\\assets\n"
     ]
    },
    {
     "name": "stdout",
     "output_type": "stream",
     "text": [
      "117/117 [==============================] - 21s 175ms/step - loss: 0.1545 - accuracy: 0.9903 - lr: 5.0000e-04\n",
      "Epoch 63/100\n",
      "117/117 [==============================] - ETA: 0s - loss: 0.1456 - accuracy: 0.9887\n",
      "Epoch 63: accuracy did not improve from 0.99033\n",
      "117/117 [==============================] - 19s 161ms/step - loss: 0.1456 - accuracy: 0.9887 - lr: 5.0000e-04\n",
      "Epoch 64/100\n",
      "117/117 [==============================] - ETA: 0s - loss: 0.1478 - accuracy: 0.9914\n",
      "Epoch 64: accuracy improved from 0.99033 to 0.99140, saving model to C:/Ceramic_Models/no_wepo/VGG16_no_test/Set_1/models\\VGG16_no_test_1_1.model\n"
     ]
    },
    {
     "name": "stderr",
     "output_type": "stream",
     "text": [
      "WARNING:absl:Found untraced functions such as _jit_compiled_convolution_op, _jit_compiled_convolution_op, _jit_compiled_convolution_op, _jit_compiled_convolution_op, _jit_compiled_convolution_op while saving (showing 5 of 13). These functions will not be directly callable after loading.\n"
     ]
    },
    {
     "name": "stdout",
     "output_type": "stream",
     "text": [
      "INFO:tensorflow:Assets written to: C:/Ceramic_Models/no_wepo/VGG16_no_test/Set_1/models\\VGG16_no_test_1_1.model\\assets\n"
     ]
    },
    {
     "name": "stderr",
     "output_type": "stream",
     "text": [
      "INFO:tensorflow:Assets written to: C:/Ceramic_Models/no_wepo/VGG16_no_test/Set_1/models\\VGG16_no_test_1_1.model\\assets\n"
     ]
    },
    {
     "name": "stdout",
     "output_type": "stream",
     "text": [
      "117/117 [==============================] - 21s 176ms/step - loss: 0.1478 - accuracy: 0.9914 - lr: 5.0000e-04\n",
      "Epoch 65/100\n",
      "117/117 [==============================] - ETA: 0s - loss: 0.1473 - accuracy: 0.9893\n",
      "Epoch 65: accuracy did not improve from 0.99140\n",
      "117/117 [==============================] - 19s 161ms/step - loss: 0.1473 - accuracy: 0.9893 - lr: 5.0000e-04\n",
      "Epoch 66/100\n",
      "117/117 [==============================] - ETA: 0s - loss: 0.1367 - accuracy: 0.9936\n",
      "Epoch 66: accuracy improved from 0.99140 to 0.99355, saving model to C:/Ceramic_Models/no_wepo/VGG16_no_test/Set_1/models\\VGG16_no_test_1_1.model\n"
     ]
    },
    {
     "name": "stderr",
     "output_type": "stream",
     "text": [
      "WARNING:absl:Found untraced functions such as _jit_compiled_convolution_op, _jit_compiled_convolution_op, _jit_compiled_convolution_op, _jit_compiled_convolution_op, _jit_compiled_convolution_op while saving (showing 5 of 13). These functions will not be directly callable after loading.\n"
     ]
    },
    {
     "name": "stdout",
     "output_type": "stream",
     "text": [
      "INFO:tensorflow:Assets written to: C:/Ceramic_Models/no_wepo/VGG16_no_test/Set_1/models\\VGG16_no_test_1_1.model\\assets\n"
     ]
    },
    {
     "name": "stderr",
     "output_type": "stream",
     "text": [
      "INFO:tensorflow:Assets written to: C:/Ceramic_Models/no_wepo/VGG16_no_test/Set_1/models\\VGG16_no_test_1_1.model\\assets\n"
     ]
    },
    {
     "name": "stdout",
     "output_type": "stream",
     "text": [
      "117/117 [==============================] - 21s 177ms/step - loss: 0.1367 - accuracy: 0.9936 - lr: 5.0000e-04\n",
      "Epoch 67/100\n",
      "117/117 [==============================] - ETA: 0s - loss: 0.1388 - accuracy: 0.9925\n",
      "Epoch 67: accuracy did not improve from 0.99355\n",
      "117/117 [==============================] - 19s 161ms/step - loss: 0.1388 - accuracy: 0.9925 - lr: 5.0000e-04\n",
      "Epoch 68/100\n",
      "117/117 [==============================] - ETA: 0s - loss: 0.1422 - accuracy: 0.9909\n",
      "Epoch 68: accuracy did not improve from 0.99355\n",
      "117/117 [==============================] - 19s 161ms/step - loss: 0.1422 - accuracy: 0.9909 - lr: 5.0000e-04\n",
      "Epoch 69/100\n",
      "117/117 [==============================] - ETA: 0s - loss: 0.1477 - accuracy: 0.9876\n",
      "Epoch 69: accuracy did not improve from 0.99355\n",
      "117/117 [==============================] - 19s 162ms/step - loss: 0.1477 - accuracy: 0.9876 - lr: 5.0000e-04\n",
      "Epoch 70/100\n",
      "117/117 [==============================] - ETA: 0s - loss: 0.1427 - accuracy: 0.9909\n",
      "Epoch 70: accuracy did not improve from 0.99355\n",
      "117/117 [==============================] - 19s 161ms/step - loss: 0.1427 - accuracy: 0.9909 - lr: 5.0000e-04\n",
      "Epoch 71/100\n",
      "117/117 [==============================] - ETA: 0s - loss: 0.1403 - accuracy: 0.9909\n",
      "Epoch 71: accuracy did not improve from 0.99355\n",
      "117/117 [==============================] - 19s 161ms/step - loss: 0.1403 - accuracy: 0.9909 - lr: 5.0000e-04\n",
      "Epoch 72/100\n",
      "117/117 [==============================] - ETA: 0s - loss: 0.1441 - accuracy: 0.9876\n",
      "Epoch 72: accuracy did not improve from 0.99355\n",
      "117/117 [==============================] - 19s 161ms/step - loss: 0.1441 - accuracy: 0.9876 - lr: 5.0000e-04\n",
      "Epoch 73/100\n",
      "117/117 [==============================] - ETA: 0s - loss: 0.1328 - accuracy: 0.9909\n",
      "Epoch 73: accuracy did not improve from 0.99355\n",
      "117/117 [==============================] - 19s 162ms/step - loss: 0.1328 - accuracy: 0.9909 - lr: 5.0000e-04\n",
      "Epoch 74/100\n",
      "117/117 [==============================] - ETA: 0s - loss: 0.1402 - accuracy: 0.9909\n",
      "Epoch 74: accuracy did not improve from 0.99355\n",
      "117/117 [==============================] - 20s 168ms/step - loss: 0.1402 - accuracy: 0.9909 - lr: 5.0000e-04\n",
      "Epoch 75/100\n",
      "117/117 [==============================] - ETA: 0s - loss: 0.1247 - accuracy: 0.9962\n",
      "Epoch 75: accuracy improved from 0.99355 to 0.99624, saving model to C:/Ceramic_Models/no_wepo/VGG16_no_test/Set_1/models\\VGG16_no_test_1_1.model\n"
     ]
    },
    {
     "name": "stderr",
     "output_type": "stream",
     "text": [
      "WARNING:absl:Found untraced functions such as _jit_compiled_convolution_op, _jit_compiled_convolution_op, _jit_compiled_convolution_op, _jit_compiled_convolution_op, _jit_compiled_convolution_op while saving (showing 5 of 13). These functions will not be directly callable after loading.\n"
     ]
    },
    {
     "name": "stdout",
     "output_type": "stream",
     "text": [
      "INFO:tensorflow:Assets written to: C:/Ceramic_Models/no_wepo/VGG16_no_test/Set_1/models\\VGG16_no_test_1_1.model\\assets\n"
     ]
    },
    {
     "name": "stderr",
     "output_type": "stream",
     "text": [
      "INFO:tensorflow:Assets written to: C:/Ceramic_Models/no_wepo/VGG16_no_test/Set_1/models\\VGG16_no_test_1_1.model\\assets\n"
     ]
    },
    {
     "name": "stdout",
     "output_type": "stream",
     "text": [
      "117/117 [==============================] - 21s 176ms/step - loss: 0.1247 - accuracy: 0.9962 - lr: 5.0000e-04\n",
      "Epoch 76/100\n",
      "117/117 [==============================] - ETA: 0s - loss: 0.1276 - accuracy: 0.9930\n",
      "Epoch 76: accuracy did not improve from 0.99624\n",
      "117/117 [==============================] - 19s 162ms/step - loss: 0.1276 - accuracy: 0.9930 - lr: 5.0000e-04\n",
      "Epoch 77/100\n",
      "117/117 [==============================] - ETA: 0s - loss: 0.1274 - accuracy: 0.9957\n",
      "Epoch 77: accuracy did not improve from 0.99624\n",
      "117/117 [==============================] - 19s 162ms/step - loss: 0.1274 - accuracy: 0.9957 - lr: 5.0000e-04\n",
      "Epoch 78/100\n",
      "117/117 [==============================] - ETA: 0s - loss: 0.1339 - accuracy: 0.9903\n",
      "Epoch 78: accuracy did not improve from 0.99624\n",
      "117/117 [==============================] - 19s 165ms/step - loss: 0.1339 - accuracy: 0.9903 - lr: 5.0000e-04\n",
      "Epoch 79/100\n",
      "117/117 [==============================] - ETA: 0s - loss: 0.1350 - accuracy: 0.9909\n",
      "Epoch 79: accuracy did not improve from 0.99624\n",
      "117/117 [==============================] - 19s 165ms/step - loss: 0.1350 - accuracy: 0.9909 - lr: 5.0000e-04\n",
      "Epoch 80/100\n",
      "117/117 [==============================] - ETA: 0s - loss: 0.1320 - accuracy: 0.9930\n",
      "Epoch 80: accuracy did not improve from 0.99624\n",
      "117/117 [==============================] - 20s 166ms/step - loss: 0.1320 - accuracy: 0.9930 - lr: 5.0000e-04\n",
      "Epoch 81/100\n",
      "117/117 [==============================] - ETA: 0s - loss: 0.1296 - accuracy: 0.9909\n",
      "Epoch 81: accuracy did not improve from 0.99624\n",
      "117/117 [==============================] - 19s 166ms/step - loss: 0.1296 - accuracy: 0.9909 - lr: 5.0000e-04\n",
      "Epoch 82/100\n",
      "117/117 [==============================] - ETA: 0s - loss: 0.1302 - accuracy: 0.9925\n",
      "Epoch 82: accuracy did not improve from 0.99624\n",
      "117/117 [==============================] - 19s 162ms/step - loss: 0.1302 - accuracy: 0.9925 - lr: 3.5000e-04\n",
      "Epoch 83/100\n",
      "117/117 [==============================] - ETA: 0s - loss: 0.1311 - accuracy: 0.9919\n",
      "Epoch 83: accuracy did not improve from 0.99624\n",
      "117/117 [==============================] - 19s 162ms/step - loss: 0.1311 - accuracy: 0.9919 - lr: 3.5000e-04\n",
      "Epoch 84/100\n",
      "117/117 [==============================] - ETA: 0s - loss: 0.1181 - accuracy: 0.9962\n",
      "Epoch 84: accuracy did not improve from 0.99624\n",
      "117/117 [==============================] - 19s 162ms/step - loss: 0.1181 - accuracy: 0.9962 - lr: 3.5000e-04\n",
      "Epoch 85/100\n",
      "117/117 [==============================] - ETA: 0s - loss: 0.1198 - accuracy: 0.9962\n",
      "Epoch 85: accuracy did not improve from 0.99624\n",
      "117/117 [==============================] - 19s 162ms/step - loss: 0.1198 - accuracy: 0.9962 - lr: 3.5000e-04\n",
      "Epoch 86/100\n",
      "117/117 [==============================] - ETA: 0s - loss: 0.1214 - accuracy: 0.9957\n",
      "Epoch 86: accuracy did not improve from 0.99624\n",
      "117/117 [==============================] - 19s 162ms/step - loss: 0.1214 - accuracy: 0.9957 - lr: 3.5000e-04\n",
      "Epoch 87/100\n",
      "117/117 [==============================] - ETA: 0s - loss: 0.1257 - accuracy: 0.9936\n",
      "Epoch 87: accuracy did not improve from 0.99624\n",
      "117/117 [==============================] - 19s 161ms/step - loss: 0.1257 - accuracy: 0.9936 - lr: 3.5000e-04\n",
      "Epoch 88/100\n",
      "117/117 [==============================] - ETA: 0s - loss: 0.1170 - accuracy: 0.9957\n",
      "Epoch 88: accuracy did not improve from 0.99624\n",
      "117/117 [==============================] - 19s 161ms/step - loss: 0.1170 - accuracy: 0.9957 - lr: 3.5000e-04\n",
      "Epoch 89/100\n",
      "117/117 [==============================] - ETA: 0s - loss: 0.1218 - accuracy: 0.9946\n",
      "Epoch 89: accuracy did not improve from 0.99624\n",
      "117/117 [==============================] - 19s 161ms/step - loss: 0.1218 - accuracy: 0.9946 - lr: 3.5000e-04\n",
      "Epoch 90/100\n",
      "117/117 [==============================] - ETA: 0s - loss: 0.1237 - accuracy: 0.9952\n",
      "Epoch 90: accuracy did not improve from 0.99624\n",
      "117/117 [==============================] - 19s 161ms/step - loss: 0.1237 - accuracy: 0.9952 - lr: 3.5000e-04\n",
      "Epoch 91/100\n",
      "117/117 [==============================] - ETA: 0s - loss: 0.1221 - accuracy: 0.9946\n",
      "Epoch 91: accuracy did not improve from 0.99624\n",
      "117/117 [==============================] - 19s 161ms/step - loss: 0.1221 - accuracy: 0.9946 - lr: 3.5000e-04\n",
      "Epoch 92/100\n",
      "117/117 [==============================] - ETA: 0s - loss: 0.1197 - accuracy: 0.9946\n",
      "Epoch 92: accuracy did not improve from 0.99624\n",
      "117/117 [==============================] - 19s 161ms/step - loss: 0.1197 - accuracy: 0.9946 - lr: 3.5000e-04\n",
      "Epoch 93/100\n",
      "117/117 [==============================] - ETA: 0s - loss: 0.1230 - accuracy: 0.9941\n",
      "Epoch 93: accuracy did not improve from 0.99624\n",
      "117/117 [==============================] - 19s 161ms/step - loss: 0.1230 - accuracy: 0.9941 - lr: 3.5000e-04\n",
      "Epoch 94/100\n",
      "117/117 [==============================] - ETA: 0s - loss: 0.1250 - accuracy: 0.9946\n",
      "Epoch 94: accuracy did not improve from 0.99624\n",
      "117/117 [==============================] - 19s 161ms/step - loss: 0.1250 - accuracy: 0.9946 - lr: 3.5000e-04\n",
      "Epoch 95/100\n",
      "117/117 [==============================] - ETA: 0s - loss: 0.1150 - accuracy: 0.9957\n",
      "Epoch 95: accuracy did not improve from 0.99624\n",
      "117/117 [==============================] - 19s 161ms/step - loss: 0.1150 - accuracy: 0.9957 - lr: 3.5000e-04\n",
      "Epoch 96/100\n",
      "117/117 [==============================] - ETA: 0s - loss: 0.1211 - accuracy: 0.9936\n",
      "Epoch 96: accuracy did not improve from 0.99624\n",
      "117/117 [==============================] - 19s 161ms/step - loss: 0.1211 - accuracy: 0.9936 - lr: 3.5000e-04\n",
      "Epoch 97/100\n",
      "117/117 [==============================] - ETA: 0s - loss: 0.1172 - accuracy: 0.9946\n",
      "Epoch 97: accuracy did not improve from 0.99624\n",
      "117/117 [==============================] - 19s 161ms/step - loss: 0.1172 - accuracy: 0.9946 - lr: 3.5000e-04\n",
      "Epoch 98/100\n",
      "117/117 [==============================] - ETA: 0s - loss: 0.1152 - accuracy: 0.9957\n",
      "Epoch 98: accuracy did not improve from 0.99624\n",
      "117/117 [==============================] - 19s 161ms/step - loss: 0.1152 - accuracy: 0.9957 - lr: 3.5000e-04\n",
      "Epoch 99/100\n",
      "117/117 [==============================] - ETA: 0s - loss: 0.1178 - accuracy: 0.9946\n",
      "Epoch 99: accuracy did not improve from 0.99624\n",
      "117/117 [==============================] - 19s 162ms/step - loss: 0.1178 - accuracy: 0.9946 - lr: 3.5000e-04\n",
      "Epoch 100/100\n",
      "117/117 [==============================] - ETA: 0s - loss: 0.1157 - accuracy: 0.9946\n",
      "Epoch 100: accuracy did not improve from 0.99624\n",
      "117/117 [==============================] - 19s 161ms/step - loss: 0.1157 - accuracy: 0.9946 - lr: 3.5000e-04\n"
     ]
    }
   ],
   "source": [
    "batch_size=16\n",
    "full_model_path = os.path.join(models_dir,'',model_id +'.model')\n",
    "#Set callbacks for final run, including saving models based on best validation accuracy\n",
    "#callbacks=[LearningRateScheduler(step_decay),ModelCheckpoint(full_model_path, monitor='val_accuracy', verbose=1,save_best_only=True,\n",
    "#          save_weights_only=False,mode='max',save_freq='epoch')]\n",
    "\n",
    "callbacks=[LearningRateScheduler(step_decay),ModelCheckpoint(full_model_path, monitor='accuracy', verbose=1,save_best_only=True,\n",
    "          save_weights_only=False,mode='max',save_freq='epoch')]\n",
    "\n",
    "# unfreeze the initial set of deep layers  and make them trainable; remember 0-based count!\n",
    "for layer in baseModel.layers[0:]:\n",
    "\tlayer.trainable = True\n",
    "\n",
    "# for the changes to the model to take affect we need to recompile\n",
    "# the model, this time using SGD with a *very* small learning rate\n",
    "print(\"[INFO] re-compiling model...\")\n",
    "opt = SGD(learning_rate=0.005)\n",
    "model.compile(loss=\"categorical_crossentropy\", optimizer=opt,\n",
    "\tmetrics=[\"accuracy\"])\n",
    "print(\"Final model compiled\")\n",
    "\n",
    "# train the model again, this time fine-tuning the full set of CONV layers\n",
    "print(\"[INFO] fine-tuning model...\")\n",
    "epoch_full=100\n",
    "#H=model.fit(aug.flow(trainX, trainY, batch_size=batch_size),\n",
    "#\tvalidation_data=(testX, testY), epochs=epoch_full,\n",
    "#\tsteps_per_epoch=len(trainX) // batch_size, callbacks=callbacks, verbose=1)\n",
    "\n",
    "H=model.fit(aug.flow(trainX, trainY, batch_size=batch_size),\n",
    "\t epochs=epoch_full,\n",
    "\tsteps_per_epoch=len(trainX) // batch_size, callbacks=callbacks, verbose=1)\n",
    "\n",
    "model_best = load_model(full_model_path)"
   ]
  },
  {
   "cell_type": "code",
   "execution_count": 11,
   "metadata": {},
   "outputs": [
    {
     "name": "stdout",
     "output_type": "stream",
     "text": [
      "[INFO] evaluating train data ...\n",
      "118/118 [==============================] - 5s 42ms/step\n",
      "              precision    recall  f1-score   support\n",
      "\n",
      "       Kanaa       1.00      0.99      1.00       112\n",
      "  Black_Mesa       0.96      1.00      0.98       421\n",
      "        Sosi       1.00      0.96      0.98       483\n",
      "    Dogoszhi       1.00      1.00      1.00       209\n",
      "   Flagstaff       0.99      1.00      1.00       171\n",
      "     Tusayan       1.00      1.00      1.00       414\n",
      "     Kayenta       1.00      1.00      1.00        67\n",
      "\n",
      "    accuracy                           0.99      1877\n",
      "   macro avg       0.99      0.99      0.99      1877\n",
      "weighted avg       0.99      0.99      0.99      1877\n",
      "\n",
      "Confusion matrix\n",
      "['Kanaa', 'Black_Mesa', 'Sosi', 'Dogoszhi', 'Flagstaff', 'Tusayan', 'Kayenta']\n",
      "[[111   0   0   1   0   0   0]\n",
      " [  0 421   0   0   0   0   0]\n",
      " [  0  16 466   0   1   0   0]\n",
      " [  0   0   0 209   0   0   0]\n",
      " [  0   0   0   0 171   0   0]\n",
      " [  0   1   0   0   0 413   0]\n",
      " [  0   0   0   0   0   0  67]]\n"
     ]
    },
    {
     "data": {
      "image/png": "[encoded data removed]",
      "text/plain": [
       "<Figure size 1100x800 with 1 Axes>"
      ]
     },
     "metadata": {},
     "output_type": "display_data"
    },
    {
     "data": {
      "image/png": "[encoded data removed]",
      "text/plain": [
       "<Figure size 1100x800 with 1 Axes>"
      ]
     },
     "metadata": {},
     "output_type": "display_data"
    }
   ],
   "source": [
    "# evaluate train data\n",
    "print(\"[INFO] evaluating train data ...\")\n",
    "predictions = model_best.predict(trainX, batch_size=16)\n",
    "class_report=classification_report(trainY.argmax(axis=1), predictions.argmax(axis=1), target_names=classNames)\n",
    "class_file=open(full_model_path  + \"_train_class_report.txt\",\"w\")\n",
    "class_file.write(class_report)\n",
    "class_file.close()\n",
    "print(class_report)\n",
    "#print(classification_report(np.argmax(testY,axis=1), predictions.argmax(axis=1),target_names=classNames))\n",
    "print(\"Confusion matrix\")\n",
    "print(classNames)\n",
    "con_mat=confusion_matrix(np.argmax(trainY,axis=1), predictions.argmax(axis=1))\n",
    "#print(confusion_matrix(np.argmax(testY,axis=1), predictions.argmax(axis=1)))\n",
    "print(con_mat)\n",
    "#confusion_matrix(np.argmax(testY,axis=1), predictions.argmax(axis=1))\n",
    "np.savetxt(full_model_path  + \"_train_confusion_matrix.csv\", con_mat, delimiter=\",\")\n",
    "\n",
    "\n",
    "np.savetxt(full_model_path  + \"_test_confusion_matrix.csv\", con_mat, delimiter=\",\")\n",
    "\n",
    "# plot the accuracy\n",
    "plt.style.use(\"ggplot\")\n",
    "plt.figure(figsize=(11, 8))\n",
    "plt.plot(np.arange(0, epoch_full), H.history[\"accuracy\"], label=\"Train accuracy\")\n",
    "#plt.plot(np.arange(0, epoch_full), H.history[\"val_accuracy\"], label=\"Test accuracy\")\n",
    "plt.title(model_id + \" Accuracy\")\n",
    "plt.xlabel(\"Epoch #\")\n",
    "plt.ylabel(\"Accuracy\")\n",
    "plt.legend()\n",
    "plt.savefig(full_model_path + \"_accuracy_plot.png\")\n",
    "#plt.show()\n",
    "\n",
    "# plot the training loss\n",
    "plt.style.use(\"ggplot\")\n",
    "plt.figure(figsize=(11, 8))\n",
    "plt.plot(np.arange(0, epoch_full), H.history[\"loss\"], label=\"Train loss\")\n",
    "#plt.plot(np.arange(0, epoch_full), H.history[\"val_loss\"], label=\"Test loss\")\n",
    "plt.title(model_id + \" Training Loss\")\n",
    "plt.xlabel(\"Epoch #\")\n",
    "plt.ylabel(\"Loss\")\n",
    "plt.legend()\n",
    "plt.savefig(full_model_path  + \"_loss_plot.png\")\n",
    "#plt.show()"
   ]
  },
  {
   "cell_type": "code",
   "execution_count": null,
   "metadata": {},
   "outputs": [],
   "source": [
    "\n",
    "# evaluate test data\n",
    "print(\"[INFO] evaluating test data ...\")\n",
    "predictions = model_best.predict(testX, batch_size=16)\n",
    "class_report=classification_report(testY.argmax(axis=1), predictions.argmax(axis=1), target_names=classNames)\n",
    "class_file=open(full_model_path  + \"_test_class_report.txt\",\"w\")\n",
    "class_file.write(class_report)\n",
    "class_file.close()\n",
    "print(class_report)\n",
    "#print(classification_report(np.argmax(testY,axis=1), predictions.argmax(axis=1),target_names=classNames))\n",
    "print(\"Confusion matrix\")\n",
    "print(classNames)\n",
    "con_mat=confusion_matrix(np.argmax(testY,axis=1), predictions.argmax(axis=1))\n",
    "#print(confusion_matrix(np.argmax(testY,axis=1), predictions.argmax(axis=1)))\n",
    "print(con_mat)\n",
    "#confusion_matrix(np.argmax(testY,axis=1), predictions.argmax(axis=1))"
   ]
  }
 ],
 "metadata": {
  "kernelspec": {
   "display_name": "Python 3 (ipykernel)",
   "language": "python",
   "name": "python3"
  },
  "language_info": {
   "codemirror_mode": {
    "name": "ipython",
    "version": 3
   },
   "file_extension": ".py",
   "mimetype": "text/x-python",
   "name": "python",
   "nbconvert_exporter": "python",
   "pygments_lexer": "ipython3",
   "version": "3.10.11"
  }
 },
 "nbformat": 4,
 "nbformat_minor": 4
}
